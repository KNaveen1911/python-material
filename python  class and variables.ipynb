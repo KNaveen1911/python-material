{
 "cells": [
  {
   "cell_type": "markdown",
   "id": "1860c554",
   "metadata": {},
   "source": [
    "# class"
   ]
  },
  {
   "cell_type": "code",
   "execution_count": 1,
   "id": "d5554120",
   "metadata": {},
   "outputs": [
    {
     "name": "stdout",
     "output_type": "stream",
     "text": [
      "this is myfun1\n",
      "this is myfun2\n"
     ]
    }
   ],
   "source": [
    "#class\n",
    "class sample:\n",
    "    def myfun1(self):\n",
    "        print(\"this is myfun1\")\n",
    "    def myfun2(self):\n",
    "        print(\"this is myfun2\")\n",
    "        \n",
    "x1=sample()   #object declaration\n",
    "x1.myfun1()\n",
    "x1.myfun2()\n"
   ]
  },
  {
   "cell_type": "code",
   "execution_count": 2,
   "id": "673a260e",
   "metadata": {},
   "outputs": [
    {
     "name": "stdout",
     "output_type": "stream",
     "text": [
      "this is myfun1\n",
      "this is myfun2\n",
      "this is myfun2\n",
      "this is myfun1\n"
     ]
    }
   ],
   "source": [
    "class sample:\n",
    "    def myfun1(self):\n",
    "        print(\"this is myfun1\")\n",
    "    def myfun2(self):\n",
    "        print(\"this is myfun2\")\n",
    "x1=sample()\n",
    "x1.myfun1()\n",
    "x1.myfun2()\n",
    "x2=sample()\n",
    "x2.myfun2()\n",
    "x2.myfun1()"
   ]
  },
  {
   "cell_type": "code",
   "execution_count": 3,
   "id": "042eef12",
   "metadata": {},
   "outputs": [
    {
     "name": "stdout",
     "output_type": "stream",
     "text": [
      "addition: 68\n",
      "addition: 23\n"
     ]
    }
   ],
   "source": [
    "class sample:\n",
    "    def inputdata(self,a,b):\n",
    "        self.a=a\n",
    "        self.b=b\n",
    "    def add(self):\n",
    "        print(\"addition:\",self.a+self.b)\n",
    "        \n",
    "x1=sample()\n",
    "x2=sample()\n",
    "x1.inputdata(23,45)\n",
    "x2.inputdata(11,12)\n",
    "x1.add()\n",
    "x2.add()"
   ]
  },
  {
   "cell_type": "code",
   "execution_count": 5,
   "id": "73c0de2f",
   "metadata": {},
   "outputs": [
    {
     "name": "stdout",
     "output_type": "stream",
     "text": [
      "doors: 4\n",
      "engine: petrol\n"
     ]
    }
   ],
   "source": [
    "# EXample\n",
    "class car:\n",
    "    def inputdata(self,doors,engine):\n",
    "        self.doors=doors\n",
    "        self.engine=engine\n",
    "    def output(self):\n",
    "        print(\"doors:\",self.doors)\n",
    "        print(\"engine:\",self.engine)\n",
    "\n",
    "car1=car()\n",
    "car1.inputdata(4,\"petrol\")\n",
    "car1.output()"
   ]
  },
  {
   "cell_type": "code",
   "execution_count": 8,
   "id": "f32e691f",
   "metadata": {},
   "outputs": [
    {
     "name": "stdout",
     "output_type": "stream",
     "text": [
      "enter the doors:4\n",
      "enthe the engine:petrol\n",
      "doors: 4\n",
      "engine: petrol\n"
     ]
    }
   ],
   "source": [
    "class car:\n",
    "    def inputdata(self,doors,engine):\n",
    "        self.doors=doors\n",
    "        self.engine=engine\n",
    "    def output(self):\n",
    "        print(\"doors:\",self.doors)\n",
    "        print(\"engine:\",self.engine)\n",
    "\n",
    "car1=car()\n",
    "doors=int(input(\"enter the doors:\"))\n",
    "engine =input(\"enthe the engine:\")\n",
    "car1.inputdata(doors,engine)\n",
    "car1.output()"
   ]
  },
  {
   "cell_type": "code",
   "execution_count": 12,
   "id": "0708ceb5",
   "metadata": {},
   "outputs": [
    {
     "name": "stdout",
     "output_type": "stream",
     "text": [
      "sno: 1\n",
      "name: naveen\n",
      "sal: 12000\n"
     ]
    }
   ],
   "source": [
    "class sample:\n",
    "    def inputdata(self,sno,name,sal):\n",
    "        self.sno=sno\n",
    "        self.name=name\n",
    "        self.sal=sal\n",
    "    def output(self):\n",
    "        print(\"sno:\",self.sno)\n",
    "        print(\"name:\",self.name)\n",
    "        print(\"sal:\",self.sal)\n",
    "        \n",
    "obj1=sample()\n",
    "obj1.inputdata(1,'naveen',12000)\n",
    "obj1.output()"
   ]
  },
  {
   "cell_type": "code",
   "execution_count": 14,
   "id": "3b3efb6f",
   "metadata": {},
   "outputs": [
    {
     "name": "stdout",
     "output_type": "stream",
     "text": [
      "enter the sno:3\n",
      "enter the name:dhgdf\n",
      "enter the sal:784\n",
      "sno: 3\n",
      "name: dhgdf\n",
      "sal: 784\n"
     ]
    }
   ],
   "source": [
    "#another way as same above\n",
    "\n",
    "class sample:\n",
    "    def inputdata(self,sno,name,sal):\n",
    "        self.sno=sno\n",
    "        self.name=name\n",
    "        self.sal=sal\n",
    "    def output(self):\n",
    "        print(\"sno:\",self.sno)\n",
    "        print(\"name:\",self.name)\n",
    "        print(\"sal:\",self.sal)\n",
    "        \n",
    "obj1=sample()\n",
    "sno=int(input(\"enter the sno:\"))\n",
    "name=input(\"enter the name:\")\n",
    "sal=int(input(\"enter the sal:\"))\n",
    "obj1.inputdata(sno,name,sal)\n",
    "obj1.output()"
   ]
  },
  {
   "cell_type": "markdown",
   "id": "2e1f2784",
   "metadata": {},
   "source": [
    "# oops "
   ]
  },
  {
   "cell_type": "markdown",
   "id": "ce85f728",
   "metadata": {},
   "source": [
    " oops with __init__ function: can directly send the values in sample"
   ]
  },
  {
   "cell_type": "code",
   "execution_count": 18,
   "id": "9d0aa8e5",
   "metadata": {},
   "outputs": [
    {
     "name": "stdout",
     "output_type": "stream",
     "text": [
      "68\n"
     ]
    }
   ],
   "source": [
    "class sample:\n",
    "    def __init__(self,a,b):  #constructor can directly pass the values in the call by function\n",
    "        self.a=a\n",
    "        self.b=b\n",
    "    def output(self):\n",
    "        print(self.a+self.b)\n",
    "        \n",
    "x1=sample(23,45)\n",
    "x1.output()"
   ]
  },
  {
   "cell_type": "code",
   "execution_count": 19,
   "id": "183091c6",
   "metadata": {},
   "outputs": [
    {
     "name": "stdout",
     "output_type": "stream",
     "text": [
      "enter x:3\n",
      "enter y:5\n",
      "8\n"
     ]
    }
   ],
   "source": [
    "class sample:\n",
    "    def __init__(self,a,b):\n",
    "        self.a=a\n",
    "        self.b=b\n",
    "    def output(self):\n",
    "        print(self.a+self.b)\n",
    "\n",
    "a=int(input(\"enter x:\"))\n",
    "b=int(input(\"enter y:\"))\n",
    "x1=sample(a,b)\n",
    "x1.output()"
   ]
  },
  {
   "cell_type": "code",
   "execution_count": 20,
   "id": "935d92a5",
   "metadata": {},
   "outputs": [
    {
     "name": "stdout",
     "output_type": "stream",
     "text": [
      "enthe eno:2\n",
      "enter ename:fv\n",
      "enter esal:45\n",
      "eno: 2\n",
      "ename: fv\n",
      "esal: 45\n"
     ]
    }
   ],
   "source": [
    "class sample:\n",
    "    def __init__(self,eno,ename,esal):\n",
    "        self.eno=eno\n",
    "        self.ename=ename\n",
    "        self.esal=esal\n",
    "    def output(self):\n",
    "        print(\"eno:\",self.eno)\n",
    "        print(\"ename:\",self.ename)\n",
    "        print(\"esal:\",self.esal)\n",
    "        \n",
    "eno=int(input(\"enthe eno:\"))\n",
    "ename=input(\"enter ename:\")\n",
    "esal=int(input(\"enter esal:\"))\n",
    "x1=sample(eno,ename,esal)\n",
    "x1.output()"
   ]
  },
  {
   "cell_type": "code",
   "execution_count": 21,
   "id": "abf9426d",
   "metadata": {},
   "outputs": [
    {
     "name": "stdout",
     "output_type": "stream",
     "text": [
      "eno: 1\n",
      "ename: mari\n",
      "esal: 45000\n"
     ]
    }
   ],
   "source": [
    "class sample:\n",
    "    def __init__(self,eno,ename,esal):\n",
    "        self.eno=eno\n",
    "        self.ename=ename\n",
    "        self.esal=esal\n",
    "    def output(self):\n",
    "        print(\"eno:\",self.eno)\n",
    "        print(\"ename:\",self.ename)\n",
    "        print(\"esal:\",self.esal)\n",
    "        \n",
    "x1=sample(1,'mari',45000)\n",
    "x1.output()"
   ]
  },
  {
   "cell_type": "code",
   "execution_count": 2,
   "id": "604c113a",
   "metadata": {},
   "outputs": [
    {
     "name": "stdout",
     "output_type": "stream",
     "text": [
      "enter eno:1\n",
      "enter ename:a\n",
      "enter esal:12\n",
      "eno: 1\n",
      "ename: a\n",
      "esal: 12\n",
      "enter eno:2\n",
      "enter ename:b\n",
      "enter esal:111\n",
      "eno: 2\n",
      "ename: b\n",
      "esal: 111\n"
     ]
    }
   ],
   "source": [
    "class sample:\n",
    "    def __init__(self,eno,ename,esal):       #constructor\n",
    "        self.eno=eno\n",
    "        self.ename=ename\n",
    "        self.esal=esal\n",
    "        \n",
    "    def hike(self,eno,ename,esal):      #another function\n",
    "        self.eno=eno\n",
    "        self.ename=ename\n",
    "        self.esal=esal\n",
    "        \n",
    "    def output(self):\n",
    "        print(\"eno:\",self.eno)\n",
    "        print(\"ename:\",self.ename)\n",
    "        print(\"esal:\",self.esal)\n",
    "    \n",
    "eno=int(input('enter eno:'))\n",
    "ename=input('enter ename:')\n",
    "esal=int(input('enter esal:'))\n",
    "x1=sample(eno,ename,esal)    \n",
    "x1.output()\n",
    "\n",
    "\n",
    "eno=int(input('enter eno:'))\n",
    "ename=input('enter ename:')\n",
    "esal=int(input('enter esal:'))\n",
    "x2=sample(eno,ename,esal)\n",
    "x2.hike(eno,ename,esal)      # to change sal just use(.)for a function\n",
    "x2.output()"
   ]
  },
  {
   "cell_type": "code",
   "execution_count": null,
   "id": "b3cf9a56",
   "metadata": {},
   "outputs": [],
   "source": []
  },
  {
   "cell_type": "markdown",
   "id": "7b5876bc",
   "metadata": {},
   "source": [
    "# variables(class,instance)"
   ]
  },
  {
   "cell_type": "code",
   "execution_count": 6,
   "id": "407b2b11",
   "metadata": {},
   "outputs": [
    {
     "name": "stdout",
     "output_type": "stream",
     "text": [
      "milage: 22\n",
      "company: maruthi\n",
      "wheels: 4\n",
      "milage: 20\n",
      "company: range rover\n",
      "wheels: 4\n",
      "milage: 25\n",
      "company: maruthi\n",
      "wheels: 3\n",
      "milage: 20\n",
      "company: range rover\n",
      "wheels: 3\n"
     ]
    }
   ],
   "source": [
    "class cars:\n",
    "    wheels=4  #class variables\n",
    "    def __init__(self,milage,company):\n",
    "        self.milage=milage\n",
    "        self.company=company\n",
    "    def output(self):\n",
    "        print(\"milage:\",self.milage)\n",
    "        print(\"company:\",self.company)\n",
    "        print(\"wheels:\",cars.wheels)\n",
    "        \n",
    "c1=cars(22,'maruthi')\n",
    "c2=cars(20,'range rover')\n",
    "c1.output()\n",
    "c2.output()\n",
    "\n",
    "c1.milage=25\n",
    "cars.wheels=3\n",
    "c1.output()\n",
    "c2.output()\n",
    "\n",
    "\n",
    "c1.wheels=3   # cant change because in output we have given cars so it cant change for c1 car\n"
   ]
  },
  {
   "cell_type": "markdown",
   "id": "94d8bc62",
   "metadata": {},
   "source": [
    "## class inside class"
   ]
  },
  {
   "cell_type": "code",
   "execution_count": 16,
   "id": "1d1c8d73",
   "metadata": {},
   "outputs": [
    {
     "ename": "AttributeError",
     "evalue": "'outer' object has no attribute 'inner'",
     "output_type": "error",
     "traceback": [
      "\u001b[1;31m---------------------------------------------------------------------------\u001b[0m",
      "\u001b[1;31mAttributeError\u001b[0m                            Traceback (most recent call last)",
      "\u001b[1;32m~\\AppData\\Local\\Temp/ipykernel_5872/1472455486.py\u001b[0m in \u001b[0;36m<module>\u001b[1;34m\u001b[0m\n\u001b[0;32m      9\u001b[0m         \u001b[0mself\u001b[0m\u001b[1;33m.\u001b[0m\u001b[0miv\u001b[0m\u001b[1;33m=\u001b[0m\u001b[0miv\u001b[0m\u001b[1;33m\u001b[0m\u001b[1;33m\u001b[0m\u001b[0m\n\u001b[0;32m     10\u001b[0m \u001b[1;33m\u001b[0m\u001b[0m\n\u001b[1;32m---> 11\u001b[1;33m \u001b[0mobj1\u001b[0m\u001b[1;33m=\u001b[0m\u001b[0mouter\u001b[0m\u001b[1;33m(\u001b[0m\u001b[0mouter\u001b[0m\u001b[1;33m)\u001b[0m\u001b[1;33m\u001b[0m\u001b[1;33m\u001b[0m\u001b[0m\n\u001b[0m\u001b[0;32m     12\u001b[0m \u001b[0mobj2\u001b[0m\u001b[1;33m=\u001b[0m\u001b[0minner\u001b[0m\u001b[1;33m(\u001b[0m\u001b[1;33m)\u001b[0m\u001b[1;33m\u001b[0m\u001b[1;33m\u001b[0m\u001b[0m\n\u001b[0;32m     13\u001b[0m \u001b[0mprint\u001b[0m\u001b[1;33m(\u001b[0m\u001b[1;34m\"outer class variable:\"\u001b[0m\u001b[1;33m,\u001b[0m\u001b[0mobj1\u001b[0m\u001b[1;33m.\u001b[0m\u001b[0mov\u001b[0m\u001b[1;33m)\u001b[0m\u001b[1;33m\u001b[0m\u001b[1;33m\u001b[0m\u001b[0m\n",
      "\u001b[1;32m~\\AppData\\Local\\Temp/ipykernel_5872/1472455486.py\u001b[0m in \u001b[0;36m__init__\u001b[1;34m(self, ov)\u001b[0m\n\u001b[0;32m      2\u001b[0m     \u001b[1;32mdef\u001b[0m \u001b[0m__init__\u001b[0m\u001b[1;33m(\u001b[0m\u001b[0mself\u001b[0m\u001b[1;33m,\u001b[0m\u001b[0mov\u001b[0m\u001b[1;33m)\u001b[0m\u001b[1;33m:\u001b[0m\u001b[1;33m\u001b[0m\u001b[1;33m\u001b[0m\u001b[0m\n\u001b[0;32m      3\u001b[0m         \u001b[0mself\u001b[0m\u001b[1;33m.\u001b[0m\u001b[0mov\u001b[0m\u001b[1;33m=\u001b[0m\u001b[0mov\u001b[0m\u001b[1;33m\u001b[0m\u001b[1;33m\u001b[0m\u001b[0m\n\u001b[1;32m----> 4\u001b[1;33m         \u001b[0mself\u001b[0m\u001b[1;33m.\u001b[0m\u001b[0min1\u001b[0m \u001b[1;33m=\u001b[0m \u001b[0mself\u001b[0m\u001b[1;33m.\u001b[0m\u001b[0minner\u001b[0m  \u001b[1;31m#inner class object should be specified\u001b[0m\u001b[1;33m\u001b[0m\u001b[1;33m\u001b[0m\u001b[0m\n\u001b[0m\u001b[0;32m      5\u001b[0m \u001b[1;33m\u001b[0m\u001b[0m\n\u001b[0;32m      6\u001b[0m \u001b[1;32mclass\u001b[0m \u001b[0minner\u001b[0m\u001b[1;33m:\u001b[0m  \u001b[1;31m#inner class\u001b[0m\u001b[1;33m\u001b[0m\u001b[1;33m\u001b[0m\u001b[0m\n",
      "\u001b[1;31mAttributeError\u001b[0m: 'outer' object has no attribute 'inner'"
     ]
    }
   ],
   "source": [
    "class outer:  #outer class\n",
    "    def __init__(self,ov):\n",
    "        self.ov=ov\n",
    "        self.in1 = self.inner  #inner class object should be specified\n",
    "\n",
    "    class inner:  #inner class\n",
    "        def __init__(self,iv):\n",
    "            self.iv=iv\n",
    "            \n",
    "obj1=outer()\n",
    "obj2=inner()\n",
    "print(\"outer class variable:\",obj1.ov)\n",
    "print(\"inner class variable:\",obj2.iv)"
   ]
  },
  {
   "cell_type": "code",
   "execution_count": null,
   "id": "18ea2c48",
   "metadata": {},
   "outputs": [],
   "source": []
  }
 ],
 "metadata": {
  "kernelspec": {
   "display_name": "Python 3 (ipykernel)",
   "language": "python",
   "name": "python3"
  },
  "language_info": {
   "codemirror_mode": {
    "name": "ipython",
    "version": 3
   },
   "file_extension": ".py",
   "mimetype": "text/x-python",
   "name": "python",
   "nbconvert_exporter": "python",
   "pygments_lexer": "ipython3",
   "version": "3.9.7"
  }
 },
 "nbformat": 4,
 "nbformat_minor": 5
}
