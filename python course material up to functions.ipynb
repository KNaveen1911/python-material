{
 "cells": [
  {
   "cell_type": "markdown",
   "id": "3ba12aa4",
   "metadata": {},
   "source": [
    "# IF"
   ]
  },
  {
   "cell_type": "code",
   "execution_count": 1,
   "id": "874daa84",
   "metadata": {},
   "outputs": [
    {
     "name": "stdout",
     "output_type": "stream",
     "text": [
      "enter a:3\n",
      "enter b:4\n"
     ]
    }
   ],
   "source": [
    "a=int(input(\"enter a:\"))\n",
    "b=int(input(\"enter b:\"))\n",
    "\n",
    "if a>b:\n",
    "    print(\"a is great\")\n",
    "    print(\"b is small\")"
   ]
  },
  {
   "cell_type": "markdown",
   "id": "0172461e",
   "metadata": {},
   "source": [
    "## if else"
   ]
  },
  {
   "cell_type": "code",
   "execution_count": 2,
   "id": "eb8a217e",
   "metadata": {},
   "outputs": [
    {
     "name": "stdout",
     "output_type": "stream",
     "text": [
      "a is small\n"
     ]
    }
   ],
   "source": [
    "a=23\n",
    "b=34\n",
    "if a>b:\n",
    "    print(\"a is great\")\n",
    "else:\n",
    "    print(\"a is small\")"
   ]
  },
  {
   "cell_type": "code",
   "execution_count": 3,
   "id": "abe3cd81",
   "metadata": {},
   "outputs": [
    {
     "name": "stdout",
     "output_type": "stream",
     "text": [
      "enter the number:45\n",
      "can vote\n"
     ]
    }
   ],
   "source": [
    "age =int(input(\"enter the number:\"))\n",
    "if age>18:\n",
    "    print(\"can vote\")\n",
    "else:\n",
    "    print(\"cant vote\")"
   ]
  },
  {
   "cell_type": "code",
   "execution_count": 4,
   "id": "fba6020b",
   "metadata": {},
   "outputs": [
    {
     "name": "stdout",
     "output_type": "stream",
     "text": [
      "enter the number:44\n",
      "positive number\n"
     ]
    }
   ],
   "source": [
    "a=int(input(\"enter the number:\"))\n",
    "if a>0:\n",
    "    print(\"positive number\")\n",
    "else:\n",
    "    print(\"negative number\")"
   ]
  },
  {
   "cell_type": "markdown",
   "id": "f9a3aa6e",
   "metadata": {},
   "source": [
    "## if elif"
   ]
  },
  {
   "cell_type": "code",
   "execution_count": 5,
   "id": "a062ec0c",
   "metadata": {},
   "outputs": [
    {
     "name": "stdout",
     "output_type": "stream",
     "text": [
      "enter the value a:23\n",
      "enter the value b:12\n",
      "enter the value c:32\n",
      "a is crct\n"
     ]
    }
   ],
   "source": [
    "a=int(input(\"enter the value a:\"))\n",
    "b=int(input(\"enter the value b:\"))\n",
    "c=int(input(\"enter the value c:\"))\n",
    "\n",
    "if a>b:\n",
    "    print(\"a is crct\")\n",
    "elif b<c:\n",
    "    print(\"b is crct:\")\n",
    "elif c>a:\n",
    "    print(\"c is crct\")\n"
   ]
  },
  {
   "cell_type": "code",
   "execution_count": 6,
   "id": "7c65b154",
   "metadata": {},
   "outputs": [
    {
     "name": "stdout",
     "output_type": "stream",
     "text": [
      "enter the value n1\n",
      "one\n"
     ]
    }
   ],
   "source": [
    "x=int(input(\"enter the value n\"))\n",
    "if x==1:\n",
    "    print(\"one\")\n",
    "elif x==2:\n",
    "    print(\"two\")\n",
    "else:\n",
    "    print(\"not in range\")"
   ]
  },
  {
   "cell_type": "code",
   "execution_count": 7,
   "id": "8649688e",
   "metadata": {},
   "outputs": [
    {
     "name": "stdout",
     "output_type": "stream",
     "text": [
      "enter the characters:a\n",
      "lower case\n"
     ]
    }
   ],
   "source": [
    "ch=input(\"enter the characters:\")\n",
    "if ch>='a' and ch<='z':\n",
    "    print(\"lower case\")\n",
    "elif ch>='A' and ch<='Z':\n",
    "    print(\"upper case\")\n",
    "elif ch>='0' and ch<='9':\n",
    "    print(\"digits\")\n",
    "else:\n",
    "    print(\"special characters\")"
   ]
  },
  {
   "cell_type": "code",
   "execution_count": 8,
   "id": "3539ab47",
   "metadata": {},
   "outputs": [
    {
     "name": "stdout",
     "output_type": "stream",
     "text": [
      "enter the value a:55\n",
      "enter the value b:5\n",
      "enter the value c:54\n",
      "a is big\n"
     ]
    }
   ],
   "source": [
    "a=int(input('enter the value a:'))\n",
    "b=int(input('enter the value b:'))\n",
    "c=int(input('enter the value c:'))\n",
    "if a>b and a>c:\n",
    "    print('a is big')\n",
    "elif b>c:\n",
    "    print('b is big')\n",
    "else:\n",
    "    print('c is great')"
   ]
  },
  {
   "cell_type": "code",
   "execution_count": 9,
   "id": "3ec7bc0e",
   "metadata": {},
   "outputs": [
    {
     "name": "stdout",
     "output_type": "stream",
     "text": [
      "enter the value:4\n",
      "even\n"
     ]
    }
   ],
   "source": [
    "a=int(input(\"enter the value:\"))\n",
    "if a%2==0:\n",
    "    print(\"even\")\n",
    "else:\n",
    "    print(\"odd\")"
   ]
  },
  {
   "cell_type": "code",
   "execution_count": 10,
   "id": "a529e280",
   "metadata": {},
   "outputs": [
    {
     "name": "stdout",
     "output_type": "stream",
     "text": [
      "enter age:45\n",
      "can marry\n"
     ]
    }
   ],
   "source": [
    "age=int(input(\"enter age:\"))\n",
    "if age>25:\n",
    "    print(\"can marry\")\n",
    "elif age<18:\n",
    "    print(\"no rights to marry\")\n",
    "else:\n",
    "    print(\"cant marry\")"
   ]
  },
  {
   "cell_type": "code",
   "execution_count": 11,
   "id": "709d9584",
   "metadata": {},
   "outputs": [
    {
     "name": "stdout",
     "output_type": "stream",
     "text": [
      "enter the marks:77\n",
      "c grade\n"
     ]
    }
   ],
   "source": [
    "marks=int(input(\"enter the marks:\"))\n",
    "if marks>100:\n",
    "    print(\"enter the crct value\")\n",
    "elif marks >=90 and marks<=100:#\n",
    "    print(\"a grade\")\n",
    "elif marks<90 and marks>=80:\n",
    "    print(\"b grade\")\n",
    "elif marks<80 and marks >=70:\n",
    "    print(\"c grade\")\n",
    "else:\n",
    "    print(\"dgrade\")"
   ]
  },
  {
   "cell_type": "markdown",
   "id": "eac65bea",
   "metadata": {},
   "source": [
    "## nested if"
   ]
  },
  {
   "cell_type": "code",
   "execution_count": 12,
   "id": "3c0a1065",
   "metadata": {},
   "outputs": [
    {
     "name": "stdout",
     "output_type": "stream",
     "text": [
      "enter the user name:naveen\n",
      "true\n",
      "enter the password:12345\n",
      "crct password\n"
     ]
    }
   ],
   "source": [
    "# uid = naveen\n",
    "#psw= 12345\n",
    "\n",
    "uid=input(\"enter the user name:\")\n",
    "if uid == 'naveen':\n",
    "    print(\"true\")\n",
    "    psw=int(input(\"enter the password:\"))\n",
    "    if psw == 12345:\n",
    "        print(\"crct password\")\n",
    "    else:\n",
    "        print(\"wrong password\")\n",
    "else:\n",
    "    print('false')"
   ]
  },
  {
   "cell_type": "code",
   "execution_count": 13,
   "id": "15edf392",
   "metadata": {},
   "outputs": [
    {
     "name": "stdout",
     "output_type": "stream",
     "text": [
      "enter the number:7\n",
      "false\n"
     ]
    }
   ],
   "source": [
    "x=int(input(\"enter the number:\"))\n",
    "r=x%2\n",
    "if r==0:\n",
    "    print(\"even\")\n",
    "    if x>5:\n",
    "        print(\"great\")\n",
    "    elif x<5:\n",
    "        print(\"false\")\n",
    "    else:\n",
    "        print('wrong')\n",
    "else:\n",
    "    print(\"false\")"
   ]
  },
  {
   "cell_type": "markdown",
   "id": "8bf3232c",
   "metadata": {},
   "source": [
    "## factorial"
   ]
  },
  {
   "cell_type": "code",
   "execution_count": 14,
   "id": "3520df3b",
   "metadata": {},
   "outputs": [
    {
     "name": "stdout",
     "output_type": "stream",
     "text": [
      "enter the number:4\n",
      "24\n"
     ]
    }
   ],
   "source": [
    "n=int(input(\"enter the number:\"))\n",
    "f=1\n",
    "for i in range(1,n+1):\n",
    "    f=f*i\n",
    "print(f)"
   ]
  },
  {
   "cell_type": "code",
   "execution_count": 15,
   "id": "523407cd",
   "metadata": {},
   "outputs": [
    {
     "name": "stdout",
     "output_type": "stream",
     "text": [
      "enter the color:green\n",
      "green\n"
     ]
    }
   ],
   "source": [
    "n=input(\"enter the color:\")\n",
    "if n == 'green':\n",
    "    print(\"green\")\n",
    "elif n == 'blue':\n",
    "    print(\"blue\")\n",
    "else:\n",
    "    print(\"not in the given list\")"
   ]
  },
  {
   "cell_type": "markdown",
   "id": "58451cc3",
   "metadata": {},
   "source": [
    "## for loop"
   ]
  },
  {
   "cell_type": "code",
   "execution_count": 16,
   "id": "7b11512b",
   "metadata": {},
   "outputs": [
    {
     "name": "stdout",
     "output_type": "stream",
     "text": [
      "enter the value:9\n",
      "non prime number\n"
     ]
    }
   ],
   "source": [
    "# prime number\n",
    "\n",
    "n=int(input(\"enter the value:\"))\n",
    "c=0   #**\n",
    "for i in range(1,n+1):\n",
    "    if n%i==0:   # condition\n",
    "        c=c+1\n",
    "if c==2:\n",
    "    print(\"prime number\")\n",
    "else:\n",
    "    print(\"non prime number\")"
   ]
  },
  {
   "cell_type": "code",
   "execution_count": 17,
   "id": "0f261da8",
   "metadata": {},
   "outputs": [
    {
     "name": "stdout",
     "output_type": "stream",
     "text": [
      "sum: 259\n"
     ]
    }
   ],
   "source": [
    "l1=[12,25,31,48,59,60,7,8,9]\n",
    "sum=0\n",
    "for i in l1:\n",
    "    sum=sum+i\n",
    "print('sum:',sum)"
   ]
  },
  {
   "cell_type": "code",
   "execution_count": 18,
   "id": "64b3df97",
   "metadata": {},
   "outputs": [
    {
     "name": "stdout",
     "output_type": "stream",
     "text": [
      "1 2 3 4 5 \n",
      "1 2 3 4 \n",
      "1 2 3 \n",
      "1 2 \n",
      "1 \n",
      "\n"
     ]
    }
   ],
   "source": [
    "for i in range(1,7):\n",
    "    for j in range(1,7-i):\n",
    "        print(j,end=\" \")\n",
    "    print()"
   ]
  },
  {
   "cell_type": "code",
   "execution_count": 19,
   "id": "fcd70ef6",
   "metadata": {},
   "outputs": [
    {
     "name": "stdout",
     "output_type": "stream",
     "text": [
      "34 x 1 = 34\n",
      "34 x 2 = 68\n",
      "34 x 3 = 102\n",
      "34 x 4 = 136\n",
      "34 x 5 = 170\n",
      "34 x 6 = 204\n",
      "34 x 7 = 238\n",
      "34 x 8 = 272\n",
      "34 x 9 = 306\n",
      "34 x 10 = 340\n"
     ]
    }
   ],
   "source": [
    "#tables\n",
    "num = 34\n",
    "for i in range(1,11):\n",
    "   print(num, 'x', i, '=', num*i)"
   ]
  },
  {
   "cell_type": "code",
   "execution_count": 20,
   "id": "0c631602",
   "metadata": {},
   "outputs": [
    {
     "name": "stdout",
     "output_type": "stream",
     "text": [
      "enter the number:4\n",
      "0 1 1 2 "
     ]
    }
   ],
   "source": [
    "# fibonacci series\n",
    "\n",
    "n=int(input(\"enter the number:\"))\n",
    "a=0\n",
    "b=1\n",
    "print(a,end=' ')\n",
    "print(b,end=' ')\n",
    "for i in range(2,n):\n",
    "    c=a+b\n",
    "    a=b\n",
    "    b=c\n",
    "    print(c,end=' ')"
   ]
  },
  {
   "cell_type": "markdown",
   "id": "eb91e41c",
   "metadata": {},
   "source": [
    "## while loop"
   ]
  },
  {
   "cell_type": "code",
   "execution_count": 21,
   "id": "b1a02ca6",
   "metadata": {},
   "outputs": [
    {
     "name": "stdout",
     "output_type": "stream",
     "text": [
      "enter the value:4\n",
      "sum: 10\n"
     ]
    }
   ],
   "source": [
    "n=int(input(\"enter the value:\"))\n",
    "i=1\n",
    "s=0\n",
    "while(i<=n):\n",
    "    s=s+i\n",
    "    i=i+1\n",
    "print(\"sum:\",s)"
   ]
  },
  {
   "cell_type": "code",
   "execution_count": 22,
   "id": "59fe8921",
   "metadata": {},
   "outputs": [
    {
     "name": "stdout",
     "output_type": "stream",
     "text": [
      "enter the number6\n",
      "non prime\n"
     ]
    }
   ],
   "source": [
    "n=int(input('enter the number'))\n",
    "c=0    #important\n",
    "i=1\n",
    "while(i<=n):\n",
    "    if n%i==0:\n",
    "        c=c+1\n",
    "    i=i+1\n",
    "if c==2:\n",
    "    print('prime')\n",
    "else:\n",
    "    print('non prime')"
   ]
  },
  {
   "cell_type": "markdown",
   "id": "05f85d97",
   "metadata": {},
   "source": [
    "armstrong number:::the sum of cubes of individual digits is equal to that number (153)\n"
   ]
  },
  {
   "cell_type": "code",
   "execution_count": 23,
   "id": "c7ffb1d4",
   "metadata": {},
   "outputs": [
    {
     "name": "stdout",
     "output_type": "stream",
     "text": [
      "enter the number:7\n",
      "7 is not an armstrong number\n"
     ]
    }
   ],
   "source": [
    "#armstrong number\n",
    "num=int(input(\"enter the number:\"))\n",
    "sum=0\n",
    "temp=num\n",
    "while temp>0:\n",
    "    digit = temp%10\n",
    "    sum=sum+digit**3\n",
    "    temp//=10\n",
    "if num==sum:\n",
    "    print(num,'is an armstrong number')\n",
    "else:\n",
    "    print(num,\"is not an armstrong number\")"
   ]
  },
  {
   "cell_type": "markdown",
   "id": "23db86fb",
   "metadata": {},
   "source": [
    "strong number:::Strong number is a number whose sum of all digits' factorial is equal to the number 'n'(145)\n"
   ]
  },
  {
   "cell_type": "code",
   "execution_count": 24,
   "id": "baf20e09",
   "metadata": {},
   "outputs": [
    {
     "name": "stdout",
     "output_type": "stream",
     "text": [
      "enter the number:121\n",
      "non strong\n"
     ]
    }
   ],
   "source": [
    "#strong number\n",
    "\n",
    "n=int(input('enter the number:'))\n",
    "temp=n\n",
    "s=0\n",
    "while(n>0):\n",
    "    d=n%10\n",
    "    f=1\n",
    "    for i in range(1,d+1):\n",
    "        f=f*i\n",
    "    s=s+f  #increment\n",
    "    n=n//10\n",
    "if s==temp:\n",
    "    print('strong number')\n",
    "else:\n",
    "    print('non strong')"
   ]
  },
  {
   "cell_type": "markdown",
   "id": "2e5dba85",
   "metadata": {},
   "source": [
    "perfect number:::the sum of  positive factors of that number is equal to that number,excluding itself(ex=6)\n"
   ]
  },
  {
   "cell_type": "code",
   "execution_count": 25,
   "id": "e4c9ab87",
   "metadata": {},
   "outputs": [
    {
     "name": "stdout",
     "output_type": "stream",
     "text": [
      "Enter any number: 22\n",
      "The number is not a Perfect number!\n"
     ]
    }
   ],
   "source": [
    "#perfect number\n",
    "n = int(input(\"Enter any number: \"))\n",
    "sum = 0\n",
    "for i in range(1, n):\n",
    "    if(n % i == 0):\n",
    "        sum = sum + i\n",
    "if (sum == n):\n",
    "    print(\"The number is a Perfect number!\")\n",
    "else:\n",
    "    print(\"The number is not a Perfect number!\")"
   ]
  },
  {
   "cell_type": "code",
   "execution_count": 26,
   "id": "6b846bee",
   "metadata": {},
   "outputs": [
    {
     "name": "stdout",
     "output_type": "stream",
     "text": [
      "telesko\n",
      "telesko\n",
      "telesko\n",
      "telesko\n",
      "telesko\n",
      "naveen\n"
     ]
    }
   ],
   "source": [
    "i=1\n",
    "while(i<=5):\n",
    "    print('telesko')\n",
    "    i=i+1\n",
    "else:  #not necessary\n",
    "    print('naveen')"
   ]
  },
  {
   "cell_type": "code",
   "execution_count": 27,
   "id": "22129441",
   "metadata": {},
   "outputs": [
    {
     "name": "stdout",
     "output_type": "stream",
     "text": [
      "Enter a string:121\n",
      "The string is a palindrome\n"
     ]
    }
   ],
   "source": [
    "#palindromr string\n",
    "string=input((\"Enter a string:\"))\n",
    "if(string==string[::-1]):\n",
    "      print(\"The string is a palindrome\")\n",
    "else:\n",
    "      print(\"Not a palindrome\")"
   ]
  },
  {
   "cell_type": "code",
   "execution_count": 28,
   "id": "66e9133f",
   "metadata": {},
   "outputs": [
    {
     "name": "stdout",
     "output_type": "stream",
     "text": [
      "Enter a number:121\n",
      "The number is palindrome!\n"
     ]
    }
   ],
   "source": [
    "num=int(input(\"Enter a number:\"))\n",
    "temp=num\n",
    "rev=0\n",
    "while(num>0):\n",
    "    dig=num%10\n",
    "    rev=rev*10+dig\n",
    "    num=num//10\n",
    "if(temp==rev):\n",
    "    print(\"The number is palindrome!\")\n",
    "else:\n",
    "    print(\"Not a palindrome!\")"
   ]
  },
  {
   "cell_type": "markdown",
   "id": "56147ab4",
   "metadata": {},
   "source": [
    "## dictionary"
   ]
  },
  {
   "cell_type": "code",
   "execution_count": 29,
   "id": "d355005d",
   "metadata": {},
   "outputs": [
    {
     "name": "stdout",
     "output_type": "stream",
     "text": [
      "1\n",
      "2\n",
      "3\n",
      "4\n",
      "5\n"
     ]
    }
   ],
   "source": [
    "d1={1:11,2:22,3:33,4:44,5:55}\n",
    "for i in d1:\n",
    "    print(i)"
   ]
  },
  {
   "cell_type": "code",
   "execution_count": 30,
   "id": "f9208045",
   "metadata": {},
   "outputs": [
    {
     "name": "stdout",
     "output_type": "stream",
     "text": [
      "1\n",
      "2\n",
      "3\n",
      "4\n",
      "5\n"
     ]
    }
   ],
   "source": [
    "for i in d1.keys():\n",
    "    print(i)"
   ]
  },
  {
   "cell_type": "code",
   "execution_count": 31,
   "id": "f1ac1548",
   "metadata": {},
   "outputs": [
    {
     "name": "stdout",
     "output_type": "stream",
     "text": [
      "11\n",
      "22\n",
      "33\n",
      "44\n",
      "55\n"
     ]
    }
   ],
   "source": [
    "for i in d1.values():\n",
    "    print(i)"
   ]
  },
  {
   "cell_type": "code",
   "execution_count": 32,
   "id": "3375c10f",
   "metadata": {},
   "outputs": [
    {
     "name": "stdout",
     "output_type": "stream",
     "text": [
      "(1, 11)\n",
      "(2, 22)\n",
      "(3, 33)\n",
      "(4, 44)\n",
      "(5, 55)\n"
     ]
    }
   ],
   "source": [
    "for i in d1.items():\n",
    "    print(i)"
   ]
  },
  {
   "cell_type": "code",
   "execution_count": 33,
   "id": "c718553d",
   "metadata": {},
   "outputs": [
    {
     "name": "stdout",
     "output_type": "stream",
     "text": [
      "1 : 11\n",
      "2 : 22\n",
      "3 : 33\n",
      "4 : 44\n",
      "5 : 55\n"
     ]
    }
   ],
   "source": [
    "for k,v in d1.items():\n",
    "    print(k,\":\",v)"
   ]
  },
  {
   "cell_type": "markdown",
   "id": "0b70276a",
   "metadata": {},
   "source": [
    "## break"
   ]
  },
  {
   "cell_type": "code",
   "execution_count": 34,
   "id": "d9f158c9",
   "metadata": {},
   "outputs": [
    {
     "name": "stdout",
     "output_type": "stream",
     "text": [
      "0\n",
      "1\n",
      "2\n",
      "3\n",
      "4\n"
     ]
    }
   ],
   "source": [
    "for i in range(0,10):\n",
    "    if i==5:\n",
    "        break  # if i is  not equal it will print else ortherwise its skip the else part\n",
    "    print(i)\n",
    "else:\n",
    "    print(\"this is else part\")"
   ]
  },
  {
   "cell_type": "markdown",
   "id": "c917c6a5",
   "metadata": {},
   "source": [
    "## continue"
   ]
  },
  {
   "cell_type": "code",
   "execution_count": 35,
   "id": "6ccb0766",
   "metadata": {},
   "outputs": [
    {
     "name": "stdout",
     "output_type": "stream",
     "text": [
      "0\n",
      "1\n",
      "2\n",
      "3\n",
      "4\n",
      "6\n",
      "7\n",
      "8\n",
      "9\n",
      "this is else part\n",
      "task completed\n"
     ]
    }
   ],
   "source": [
    "for i in range(0,10):\n",
    "    if i==5:\n",
    "        continue # it skip only the equal part i.e =5\n",
    "\n",
    "    print(i)\n",
    "else:\n",
    "    print(\"this is else part\")\n",
    "print(\"task completed\")"
   ]
  },
  {
   "cell_type": "markdown",
   "id": "6c8a5edb",
   "metadata": {},
   "source": [
    "## pass"
   ]
  },
  {
   "cell_type": "code",
   "execution_count": 36,
   "id": "f32030e4",
   "metadata": {},
   "outputs": [
    {
     "name": "stdout",
     "output_type": "stream",
     "text": [
      "0\n",
      "1\n",
      "2\n",
      "3\n",
      "4\n",
      "5\n",
      "6\n",
      "7\n",
      "8\n",
      "9\n"
     ]
    }
   ],
   "source": [
    "for i in range(0,10):\n",
    "    if i==5:\n",
    "        pass # to fill the empty block \n",
    "    print(i)"
   ]
  },
  {
   "cell_type": "markdown",
   "id": "7fd63fd4",
   "metadata": {},
   "source": [
    "### local variables:::declares inside function"
   ]
  },
  {
   "cell_type": "code",
   "execution_count": 38,
   "id": "9732c3c2",
   "metadata": {},
   "outputs": [
    {
     "name": "stdout",
     "output_type": "stream",
     "text": [
      "enter a:2\n",
      "enter b:3\n",
      "2\n",
      "3\n"
     ]
    }
   ],
   "source": [
    "def sample(a,b):\n",
    "    print(a)\n",
    "    print(b)\n",
    "    \n",
    "def sample1():  # it does not execute as it contains same  local values\n",
    "    print(a)\n",
    "    print(b)    \n",
    "\n",
    "\n",
    "a=int(input(\"enter a:\"))\n",
    "b=int(input(\"enter b:\"))\n",
    "sample(a,b)\n",
    "#sample1(x,y)"
   ]
  },
  {
   "cell_type": "markdown",
   "id": "2b1d513f",
   "metadata": {},
   "source": [
    "### global variable:::declares outside function"
   ]
  },
  {
   "cell_type": "code",
   "execution_count": 39,
   "id": "e0a3bc7b",
   "metadata": {},
   "outputs": [
    {
     "name": "stdout",
     "output_type": "stream",
     "text": [
      "enter x:2\n",
      "enter y:3\n",
      "2\n",
      "3\n",
      "x: 2\n",
      "y: 3\n"
     ]
    }
   ],
   "source": [
    "def sample(a,b):\n",
    "    print(a)\n",
    "    print(b)\n",
    "    \n",
    "    print(\"x:\",x)\n",
    "    print(\"y:\",y)\n",
    "\n",
    "x=int(input(\"enter x:\"))\n",
    "y=int(input(\"enter y:\"))    \n",
    "sample(x,y)"
   ]
  },
  {
   "cell_type": "code",
   "execution_count": 42,
   "id": "7d4690b8",
   "metadata": {},
   "outputs": [
    {
     "name": "stdout",
     "output_type": "stream",
     "text": [
      "50\n",
      "45\n",
      "a: 45\n"
     ]
    }
   ],
   "source": [
    "a=50 #global variable\n",
    "def show():\n",
    "    global a #we can declare any local value as a aglobal\n",
    "    print(a)\n",
    "    a=45  #local variable\n",
    "    print(a)\n",
    "show()\n",
    "print(\"a:\",a)"
   ]
  },
  {
   "cell_type": "code",
   "execution_count": 44,
   "id": "b429394e",
   "metadata": {},
   "outputs": [
    {
     "name": "stdout",
     "output_type": "stream",
     "text": [
      "200 243\n",
      "200\n"
     ]
    },
    {
     "ename": "NameError",
     "evalue": "name 't' is not defined",
     "output_type": "error",
     "traceback": [
      "\u001b[1;31m---------------------------------------------------------------------------\u001b[0m",
      "\u001b[1;31mNameError\u001b[0m                                 Traceback (most recent call last)",
      "\u001b[1;32m~\\AppData\\Local\\Temp/ipykernel_6460/10837689.py\u001b[0m in \u001b[0;36m<module>\u001b[1;34m\u001b[0m\n\u001b[0;32m      7\u001b[0m     \u001b[0mprint\u001b[0m\u001b[1;33m(\u001b[0m\u001b[0mt\u001b[0m\u001b[1;33m)\u001b[0m \u001b[1;31m#local it wont print\u001b[0m\u001b[1;33m\u001b[0m\u001b[1;33m\u001b[0m\u001b[0m\n\u001b[0;32m      8\u001b[0m \u001b[0mm1\u001b[0m\u001b[1;33m(\u001b[0m\u001b[1;33m)\u001b[0m\u001b[1;33m\u001b[0m\u001b[1;33m\u001b[0m\u001b[0m\n\u001b[1;32m----> 9\u001b[1;33m \u001b[0mm2\u001b[0m\u001b[1;33m(\u001b[0m\u001b[1;33m)\u001b[0m\u001b[1;33m\u001b[0m\u001b[1;33m\u001b[0m\u001b[0m\n\u001b[0m",
      "\u001b[1;32m~\\AppData\\Local\\Temp/ipykernel_6460/10837689.py\u001b[0m in \u001b[0;36mm2\u001b[1;34m()\u001b[0m\n\u001b[0;32m      5\u001b[0m \u001b[1;32mdef\u001b[0m \u001b[0mm2\u001b[0m\u001b[1;33m(\u001b[0m\u001b[1;33m)\u001b[0m\u001b[1;33m:\u001b[0m\u001b[1;33m\u001b[0m\u001b[1;33m\u001b[0m\u001b[0m\n\u001b[0;32m      6\u001b[0m     \u001b[0mprint\u001b[0m\u001b[1;33m(\u001b[0m\u001b[0mx\u001b[0m\u001b[1;33m)\u001b[0m\u001b[1;33m\u001b[0m\u001b[1;33m\u001b[0m\u001b[0m\n\u001b[1;32m----> 7\u001b[1;33m     \u001b[0mprint\u001b[0m\u001b[1;33m(\u001b[0m\u001b[0mt\u001b[0m\u001b[1;33m)\u001b[0m \u001b[1;31m#local it wont print\u001b[0m\u001b[1;33m\u001b[0m\u001b[1;33m\u001b[0m\u001b[0m\n\u001b[0m\u001b[0;32m      8\u001b[0m \u001b[0mm1\u001b[0m\u001b[1;33m(\u001b[0m\u001b[1;33m)\u001b[0m\u001b[1;33m\u001b[0m\u001b[1;33m\u001b[0m\u001b[0m\n\u001b[0;32m      9\u001b[0m \u001b[0mm2\u001b[0m\u001b[1;33m(\u001b[0m\u001b[1;33m)\u001b[0m\u001b[1;33m\u001b[0m\u001b[1;33m\u001b[0m\u001b[0m\n",
      "\u001b[1;31mNameError\u001b[0m: name 't' is not defined"
     ]
    }
   ],
   "source": [
    "x=200 #global variable\n",
    "def m1():\n",
    "    t=243  #local variable\n",
    "    print(x,t)\n",
    "def m2():\n",
    "    print(x)\n",
    "    print(t) #local it wont print\n",
    "m1()\n",
    "m2()"
   ]
  },
  {
   "cell_type": "code",
   "execution_count": 45,
   "id": "e9d60139",
   "metadata": {},
   "outputs": [
    {
     "name": "stdout",
     "output_type": "stream",
     "text": [
      "200 243\n",
      "200\n",
      "243\n"
     ]
    }
   ],
   "source": [
    "x=200  #global variable\n",
    "def m1():\n",
    "    global t  # t is local convetred  to global\n",
    "    t=243  #local variable\n",
    "    print(x,t)\n",
    "def m2():\n",
    "    print(x)\n",
    "    print(t)\n",
    "m1()\n",
    "m2()"
   ]
  },
  {
   "cell_type": "markdown",
   "id": "d9a918c5",
   "metadata": {},
   "source": [
    "####  lambda::: it is a anonomous function i.e with out a function can have no of arguments but only one expression using the function\n"
   ]
  },
  {
   "cell_type": "code",
   "execution_count": 49,
   "id": "180fbb0e",
   "metadata": {},
   "outputs": [
    {
     "name": "stdout",
     "output_type": "stream",
     "text": [
      "25\n"
     ]
    }
   ],
   "source": [
    "def square(a):\n",
    "    return(a*a)\n",
    "x=square(5)\n",
    "print(x)"
   ]
  },
  {
   "cell_type": "code",
   "execution_count": 52,
   "id": "59f85a48",
   "metadata": {},
   "outputs": [
    {
     "name": "stdout",
     "output_type": "stream",
     "text": [
      "25\n"
     ]
    }
   ],
   "source": [
    "# using lambda\n",
    "f=lambda a:a*a\n",
    "x=f(5)\n",
    "print(x)"
   ]
  },
  {
   "cell_type": "code",
   "execution_count": 53,
   "id": "6e5b9714",
   "metadata": {},
   "outputs": [
    {
     "name": "stdout",
     "output_type": "stream",
     "text": [
      "231\n"
     ]
    }
   ],
   "source": [
    "a=lambda q,w,e,r,t,y:(q+w+e+r+t+y)\n",
    "x=a(11,12,123,14,15,56)\n",
    "print(x)"
   ]
  },
  {
   "cell_type": "code",
   "execution_count": 54,
   "id": "c5d35732",
   "metadata": {},
   "outputs": [
    {
     "name": "stdout",
     "output_type": "stream",
     "text": [
      "78.57142857142857\n"
     ]
    }
   ],
   "source": [
    "#area of a circle= 22/7*r2\n",
    "\n",
    "s=lambda r:(22/7*(r*r))\n",
    "x=s(5)\n",
    "print(x)"
   ]
  },
  {
   "cell_type": "code",
   "execution_count": 58,
   "id": "3b2397ce",
   "metadata": {},
   "outputs": [
    {
     "name": "stdout",
     "output_type": "stream",
     "text": [
      "enter the number:34\n",
      "2145\n"
     ]
    }
   ],
   "source": [
    "s=lambda x:(2*x*x-5*x+7//2)\n",
    "x=int(input(\"enter the number:\"))\n",
    "print(s(x))"
   ]
  },
  {
   "cell_type": "markdown",
   "id": "5065cbd3",
   "metadata": {},
   "source": [
    "## functions"
   ]
  },
  {
   "cell_type": "code",
   "execution_count": 1,
   "id": "917eb842",
   "metadata": {},
   "outputs": [
    {
     "ename": "SyntaxError",
     "evalue": "invalid syntax (Temp/ipykernel_12188/1785300608.py, line 2)",
     "output_type": "error",
     "traceback": [
      "\u001b[1;36m  File \u001b[1;32m\"C:\\Users\\knani\\AppData\\Local\\Temp/ipykernel_12188/1785300608.py\"\u001b[1;36m, line \u001b[1;32m2\u001b[0m\n\u001b[1;33m    def function name(agrements,parameters):\u001b[0m\n\u001b[1;37m                 ^\u001b[0m\n\u001b[1;31mSyntaxError\u001b[0m\u001b[1;31m:\u001b[0m invalid syntax\n"
     ]
    }
   ],
   "source": [
    "# function syntax:::\n",
    "def function name(agrements,parameters):\n",
    "    #code\n",
    "function_name"
   ]
  },
  {
   "cell_type": "markdown",
   "id": "6af5d39d",
   "metadata": {},
   "source": [
    "1.without arguments and without return\n",
    "2.with arguments and without return\n",
    "3.without arguments and with return\n",
    "4.with arguments and with return"
   ]
  },
  {
   "cell_type": "code",
   "execution_count": 3,
   "id": "1a7dc50a",
   "metadata": {},
   "outputs": [
    {
     "name": "stdout",
     "output_type": "stream",
     "text": [
      "fun3\n",
      "fun1\n",
      "fun2\n"
     ]
    }
   ],
   "source": [
    "# 1.without arguments and without return\n",
    "\n",
    "def sample():\n",
    "    print(\"fun1\")\n",
    "    print(\"fun2\")\n",
    "print(\"fun3\")\n",
    "sample() # function call"
   ]
  },
  {
   "cell_type": "code",
   "execution_count": 4,
   "id": "0ad64e68",
   "metadata": {},
   "outputs": [
    {
     "name": "stdout",
     "output_type": "stream",
     "text": [
      "enter x:23\n",
      "enter y:45\n",
      "addition: 68\n",
      "subtraction: -22\n",
      "multiplication: 1035\n",
      "division: 0.5111111111111111\n",
      "percentage: 23\n"
     ]
    }
   ],
   "source": [
    "#function integers with arguments and without return\n",
    "\n",
    "def sample(a,b):\n",
    "    print(\"addition:\",a+b)\n",
    "    print(\"subtraction:\",a-b)\n",
    "    print(\"multiplication:\",a*b)\n",
    "    print(\"division:\",a/b)\n",
    "    print(\"percentage:\",a%b)\n",
    "    \n",
    "x=int(input(\"enter x:\"))\n",
    "y=int(input(\"enter y:\"))\n",
    "sample(x,y)"
   ]
  },
  {
   "cell_type": "code",
   "execution_count": 5,
   "id": "1648af6c",
   "metadata": {},
   "outputs": [
    {
     "name": "stdout",
     "output_type": "stream",
     "text": [
      "enter the first namenaveen\n",
      "enter the middle namenani\n",
      "enter the last namekumar\n",
      "names: naveen nani kumar\n"
     ]
    }
   ],
   "source": [
    "def names(first_name,middle_name,last_name):\n",
    "    print('names:',first_name+' '+middle_name+' '+last_name)\n",
    "    \n",
    "#print(\"main program\")\n",
    "first_name=input(\"enter the first name\")\n",
    "middle_name=input(\"enter the middle name\")\n",
    "last_name=input(\"enter the last name\")\n",
    "names(first_name,middle_name,last_name) # function call\n"
   ]
  },
  {
   "cell_type": "code",
   "execution_count": 8,
   "id": "5ce5c1f8",
   "metadata": {},
   "outputs": [
    {
     "name": "stdout",
     "output_type": "stream",
     "text": [
      "enter x:4\n",
      "enter y:5\n"
     ]
    },
    {
     "data": {
      "text/plain": [
       "9"
      ]
     },
     "execution_count": 8,
     "metadata": {},
     "output_type": "execute_result"
    }
   ],
   "source": [
    "# function with arguments and with return\n",
    "def sample(a,b):\n",
    "    return(a+b)\n",
    "\n",
    "x=int(input(\"enter x:\"))\n",
    "y=int(input(\"enter y:\"))\n",
    "#print(\"sum:\",sample(x,y)) \n",
    "sample(x,y)"
   ]
  },
  {
   "cell_type": "code",
   "execution_count": 9,
   "id": "2300efb3",
   "metadata": {},
   "outputs": [
    {
     "name": "stdout",
     "output_type": "stream",
     "text": [
      "enter x:25\n",
      "enter y:66\n",
      "sum: 91\n"
     ]
    }
   ],
   "source": [
    "def sample(a,b):\n",
    "    return(a+b)\n",
    "\n",
    "x=int(input(\"enter x:\"))\n",
    "y=int(input(\"enter y:\"))\n",
    "s=sample(x,y)\n",
    "print(\"sum:\",s)"
   ]
  },
  {
   "cell_type": "code",
   "execution_count": 13,
   "id": "da4c53db",
   "metadata": {},
   "outputs": [
    {
     "name": "stdout",
     "output_type": "stream",
     "text": [
      "enter the number:4\n",
      "fact: 24\n"
     ]
    }
   ],
   "source": [
    "def fact(n):\n",
    "    f=1\n",
    "    for i in range(1,n+1):\n",
    "        f=f*i\n",
    "    return f\n",
    "\n",
    "n=int(input(\"enter the number:\"))\n",
    "f=fact(n)#as it returnd the value so we have to take a variable to store it\n",
    "print(\"fact:\",f)"
   ]
  },
  {
   "cell_type": "code",
   "execution_count": 14,
   "id": "1c3bf865",
   "metadata": {},
   "outputs": [
    {
     "name": "stdout",
     "output_type": "stream",
     "text": [
      "enter the number:4\n",
      "fact 24\n"
     ]
    }
   ],
   "source": [
    "#with arguments and without return\n",
    "\n",
    "def fact(n):\n",
    "    f=1\n",
    "    for i in range(1,n+1):\n",
    "        f=f*i\n",
    "    print(\"fact\",f)\n",
    "    \n",
    "n=int(input(\"enter the number:\"))\n",
    "fact(n)"
   ]
  },
  {
   "cell_type": "code",
   "execution_count": 16,
   "id": "d6d0578c",
   "metadata": {},
   "outputs": [
    {
     "name": "stdout",
     "output_type": "stream",
     "text": [
      "enter the number:5\n",
      "fact: 120\n"
     ]
    }
   ],
   "source": [
    "#without arguments and with return\n",
    "def fact():\n",
    "    n=int(input(\"enter the number:\"))\n",
    "    f=1\n",
    "    for i in range(1,n+1):\n",
    "        f=f*i\n",
    "    return (f)\n",
    "    \n",
    "f=fact()\n",
    "print(\"fact:\",f)"
   ]
  },
  {
   "cell_type": "code",
   "execution_count": 17,
   "id": "dfdaefbf",
   "metadata": {},
   "outputs": [
    {
     "name": "stdout",
     "output_type": "stream",
     "text": [
      "enter the number:4\n",
      "fact: 24\n"
     ]
    }
   ],
   "source": [
    "#without arguments and without return\n",
    "def fact():\n",
    "    n=int(input(\"enter the number:\"))\n",
    "    f=1\n",
    "    for i in range(1,n+1):\n",
    "        f=f*i\n",
    "    print(\"fact:\",f)\n",
    "\n",
    "f=fact()"
   ]
  },
  {
   "cell_type": "markdown",
   "id": "628580e7",
   "metadata": {},
   "source": [
    "# nested function"
   ]
  },
  {
   "cell_type": "code",
   "execution_count": 18,
   "id": "0f65e3fa",
   "metadata": {},
   "outputs": [
    {
     "name": "stdout",
     "output_type": "stream",
     "text": [
      "this is display function\n",
      "this is shoe function\n"
     ]
    }
   ],
   "source": [
    "def display():\n",
    "    print(\"this is display function\")\n",
    "    \n",
    "    def show():\n",
    "        print(\"this is shoe function\")\n",
    "    show()  #call the function\n",
    "    \n",
    "display()  # call the function"
   ]
  },
  {
   "cell_type": "code",
   "execution_count": 20,
   "id": "0f9b946c",
   "metadata": {},
   "outputs": [
    {
     "name": "stdout",
     "output_type": "stream",
     "text": [
      "this is display\n"
     ]
    }
   ],
   "source": [
    "#function as a arguments\n",
    "\n",
    "def display(show):\n",
    "    print(\"this is display\")\n",
    "def show():\n",
    "    print(\"this is show\")\n",
    "\n",
    "display(show)"
   ]
  },
  {
   "cell_type": "code",
   "execution_count": 21,
   "id": "0e7243b0",
   "metadata": {},
   "outputs": [
    {
     "name": "stdout",
     "output_type": "stream",
     "text": [
      "display function\n",
      "<function show at 0x000002090821BC10>\n"
     ]
    }
   ],
   "source": [
    "#function return other function\n",
    "def display(sh):\n",
    "    print(\"display function\")\n",
    "    return sh\n",
    "\n",
    "def show():\n",
    "    return(\"show function\")\n",
    "r=display(show)\n",
    "print(r)"
   ]
  },
  {
   "cell_type": "code",
   "execution_count": null,
   "id": "5300d5c6",
   "metadata": {},
   "outputs": [],
   "source": []
  },
  {
   "cell_type": "raw",
   "id": "cc5685f5",
   "metadata": {},
   "source": [
    " Types of arguments\n",
    " \n",
    "1.positional or relational arguments\n",
    "2.keyword arguments\n",
    "3.default arguments\n",
    "4.variable length arguments\n",
    "5.keyword variable length  arguments"
   ]
  },
  {
   "cell_type": "code",
   "execution_count": 26,
   "id": "b611f556",
   "metadata": {},
   "outputs": [
    {
     "name": "stdout",
     "output_type": "stream",
     "text": [
      "sno: 1\n",
      "name: naveen\n",
      "salaty: 10000\n",
      "sno: 2\n",
      "name: ravi\n",
      "salaty: 20000\n",
      "sno: ravi\n",
      "name: 3\n",
      "salaty: 7888\n"
     ]
    }
   ],
   "source": [
    "#1.positional arguments\n",
    "\n",
    "def sample(sno,name,salary):\n",
    "    print(\"sno:\",sno)\n",
    "    print(\"name:\",name)\n",
    "    print(\"salaty:\",salary)\n",
    "    \n",
    "sample(1,'naveen',10000)\n",
    "sample(2,'ravi',20000)\n",
    "sample('ravi',3,7888)"
   ]
  },
  {
   "cell_type": "code",
   "execution_count": 27,
   "id": "3aabff3b",
   "metadata": {},
   "outputs": [
    {
     "name": "stdout",
     "output_type": "stream",
     "text": [
      "sno: 1\n",
      "name: ranveer\n",
      "salaty: 20000\n",
      "sno: 3\n",
      "name: naveen\n",
      "salaty: 45000\n"
     ]
    }
   ],
   "source": [
    "# 2.keyword arguments\n",
    "\n",
    "def sample(sno,name,salary):\n",
    "    print(\"sno:\",sno)\n",
    "    print(\"name:\",name)\n",
    "    print(\"salaty:\",salary)\n",
    "    \n",
    "sample(1,'ranveer',20000)\n",
    "sample(name='naveen', sno=3,salary=45000)  #keyword"
   ]
  },
  {
   "cell_type": "code",
   "execution_count": 28,
   "id": "daaed51f",
   "metadata": {},
   "outputs": [
    {
     "name": "stdout",
     "output_type": "stream",
     "text": [
      "sno: 101\n",
      "name: sanjay\n",
      "salaty: 20000\n"
     ]
    }
   ],
   "source": [
    "#3.default arguments\n",
    "def sample(sno,name,salary=20000):\n",
    "    print(\"sno:\",sno)\n",
    "    print(\"name:\",name)\n",
    "    print(\"salaty:\",salary)\n",
    "    \n",
    "sample(101,'sanjay')"
   ]
  },
  {
   "cell_type": "code",
   "execution_count": 33,
   "id": "268f0b18",
   "metadata": {},
   "outputs": [
    {
     "name": "stdout",
     "output_type": "stream",
     "text": [
      "24\n",
      "10\n",
      "-8\n",
      "0\n",
      "155\n",
      "-21\n",
      "7395696\n",
      "232\n",
      "-186\n"
     ]
    }
   ],
   "source": [
    "def sum(a,b=0,c=0,d=0):\n",
    "    print(a*b*c*d)\n",
    "    print(a+b+c+d) \n",
    "    print(a-b-c-d)\n",
    "    \n",
    "sum(1,2,3,4)\n",
    "sum(67,88)\n",
    "sum(23,56,87,66)"
   ]
  },
  {
   "cell_type": "code",
   "execution_count": 36,
   "id": "928b7291",
   "metadata": {},
   "outputs": [
    {
     "name": "stdout",
     "output_type": "stream",
     "text": [
      "sum 1\n",
      "sum 3\n",
      "sum 6\n",
      "sum 10\n",
      "sum 15\n",
      "(1, 2, 3, 4, 5)\n",
      "<class 'tuple'>\n",
      "sum 11\n",
      "sum 23\n",
      "sum 36\n",
      "sum 50\n",
      "(11, 12, 13, 14)\n",
      "<class 'tuple'>\n"
     ]
    }
   ],
   "source": [
    "#4.variable length arguments [assume as list]\n",
    "def add(*a):\n",
    "    s=0\n",
    "    for i in a:\n",
    "        s=s+i\n",
    "        print('sum',s)\n",
    "    print(a)\n",
    "    print(type(a))\n",
    "    \n",
    "add(1,2,3,4,5)\n",
    "add(11,12,13,14)"
   ]
  },
  {
   "cell_type": "code",
   "execution_count": 38,
   "id": "473f88e4",
   "metadata": {},
   "outputs": [
    {
     "name": "stdout",
     "output_type": "stream",
     "text": [
      "a : 12\n",
      "b : 34\n",
      "c : 55\n",
      "d : 32\n"
     ]
    }
   ],
   "source": [
    "#5.keyword variable length  arguments\n",
    "#  **a=kwargs  assume as a dictionary\n",
    "\n",
    "def sample(**a):\n",
    "    for k,v in a.items():\n",
    "        print(k,':',v)\n",
    "    \n",
    "sample(a=12,b=34,c=55,d=32)"
   ]
  },
  {
   "cell_type": "code",
   "execution_count": null,
   "id": "37956335",
   "metadata": {},
   "outputs": [],
   "source": []
  },
  {
   "cell_type": "code",
   "execution_count": null,
   "id": "b92c0d9f",
   "metadata": {},
   "outputs": [],
   "source": []
  },
  {
   "cell_type": "code",
   "execution_count": null,
   "id": "1b5da588",
   "metadata": {},
   "outputs": [],
   "source": []
  },
  {
   "cell_type": "code",
   "execution_count": null,
   "id": "3c3ee171",
   "metadata": {},
   "outputs": [],
   "source": []
  }
 ],
 "metadata": {
  "kernelspec": {
   "display_name": "Python 3 (ipykernel)",
   "language": "python",
   "name": "python3"
  },
  "language_info": {
   "codemirror_mode": {
    "name": "ipython",
    "version": 3
   },
   "file_extension": ".py",
   "mimetype": "text/x-python",
   "name": "python",
   "nbconvert_exporter": "python",
   "pygments_lexer": "ipython3",
   "version": "3.9.7"
  }
 },
 "nbformat": 4,
 "nbformat_minor": 5
}
