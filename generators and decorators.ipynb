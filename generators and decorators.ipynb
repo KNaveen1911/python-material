{
 "cells": [
  {
   "cell_type": "markdown",
   "id": "88bbed7d",
   "metadata": {},
   "source": [
    "####  generators:: yield  a keyword is used to represent it / \n",
    "function that returns an object (iterator) which we can iterate over (one value at a time)."
   ]
  },
  {
   "cell_type": "code",
   "execution_count": 3,
   "id": "b1c75fad",
   "metadata": {},
   "outputs": [
    {
     "name": "stdout",
     "output_type": "stream",
     "text": [
      "12\n"
     ]
    }
   ],
   "source": [
    "def sample():\n",
    "    yield(12)\n",
    "    \n",
    "a=sample()\n",
    "print(a.__next__())"
   ]
  },
  {
   "cell_type": "code",
   "execution_count": 6,
   "id": "f93bf28b",
   "metadata": {},
   "outputs": [
    {
     "name": "stdout",
     "output_type": "stream",
     "text": [
      "(12, 34, 5, 67, 8, 9)\n"
     ]
    }
   ],
   "source": [
    "def sample():\n",
    "    yield (12,34,5,67,8,9)\n",
    "    \n",
    "\n",
    "a=sample()\n",
    "print(a.__next__())\n"
   ]
  },
  {
   "cell_type": "code",
   "execution_count": 10,
   "id": "4390fed1",
   "metadata": {},
   "outputs": [
    {
     "name": "stdout",
     "output_type": "stream",
     "text": [
      "(12, 34, 5, 67, 8, 9)\n",
      "12\n",
      "14\n",
      "15\n"
     ]
    }
   ],
   "source": [
    "def sample():\n",
    "    yield (12,34,5,67,8,9)\n",
    "    yield 12\n",
    "    yield 14\n",
    "    yield 15\n",
    "    yield 16\n",
    "\n",
    "a=sample()\n",
    "print(a.__next__())\n",
    "print(a.__next__())\n",
    "print(a.__next__())\n",
    "print(a.__next__())"
   ]
  },
  {
   "cell_type": "code",
   "execution_count": 12,
   "id": "79c98482",
   "metadata": {},
   "outputs": [
    {
     "name": "stdout",
     "output_type": "stream",
     "text": [
      "1\n",
      "4\n",
      "9\n",
      "16\n",
      "25\n",
      "36\n",
      "49\n",
      "64\n",
      "81\n",
      "100\n"
     ]
    }
   ],
   "source": [
    "# top ten perfect square numbers\n",
    "def topten():\n",
    "    n=1\n",
    "    while n<=10:\n",
    "        sq=n*n\n",
    "        yield sq\n",
    "        n=n+1\n",
    "        \n",
    "a=topten()\n",
    "for i in a:\n",
    "    print(i)"
   ]
  },
  {
   "cell_type": "markdown",
   "id": "dfa4958a",
   "metadata": {},
   "source": [
    "# decorators"
   ]
  },
  {
   "cell_type": "markdown",
   "id": "3cd1c958",
   "metadata": {},
   "source": [
    "decorators:::extending the existing function without any modification to the original function it allows to wrap another function in order to extend the behaviour of wrapped function without permanentely modifying it\n"
   ]
  },
  {
   "cell_type": "code",
   "execution_count": 15,
   "id": "b58233ae",
   "metadata": {},
   "outputs": [
    {
     "name": "stdout",
     "output_type": "stream",
     "text": [
      "0.5714285714285714\n",
      "0.361764705882353\n"
     ]
    }
   ],
   "source": [
    "def div(a,b):\n",
    "    print(a/b)\n",
    "    \n",
    "div(4,7)\n",
    "div(12.3,34)"
   ]
  },
  {
   "cell_type": "code",
   "execution_count": 17,
   "id": "a7750a2d",
   "metadata": {},
   "outputs": [
    {
     "name": "stdout",
     "output_type": "stream",
     "text": [
      "1.3333333333333333\n"
     ]
    }
   ],
   "source": [
    "def div(a,b):\n",
    "    if a<b:\n",
    "        a,b=b,a  #swap the values\n",
    "    print(a/b)\n",
    "    \n",
    "div(3,4)    "
   ]
  },
  {
   "cell_type": "code",
   "execution_count": 18,
   "id": "ea2ecd52",
   "metadata": {},
   "outputs": [
    {
     "name": "stdout",
     "output_type": "stream",
     "text": [
      "3.0\n",
      "2.0\n"
     ]
    }
   ],
   "source": [
    "def smart_div(func):\n",
    "    def inner(a,b):\n",
    "        if a<b:\n",
    "            a,b=b,a  #swap\n",
    "        return func(a,b)\n",
    "    return inner\n",
    "@smart_div #decorator\n",
    "def div(a,b):   # actualfunction\n",
    "    print(a/b)\n",
    "div(6,2)\n",
    "div(2,4) #function call"
   ]
  },
  {
   "cell_type": "code",
   "execution_count": null,
   "id": "233a009a",
   "metadata": {},
   "outputs": [],
   "source": []
  }
 ],
 "metadata": {
  "kernelspec": {
   "display_name": "Python 3 (ipykernel)",
   "language": "python",
   "name": "python3"
  },
  "language_info": {
   "codemirror_mode": {
    "name": "ipython",
    "version": 3
   },
   "file_extension": ".py",
   "mimetype": "text/x-python",
   "name": "python",
   "nbconvert_exporter": "python",
   "pygments_lexer": "ipython3",
   "version": "3.9.7"
  }
 },
 "nbformat": 4,
 "nbformat_minor": 5
}
