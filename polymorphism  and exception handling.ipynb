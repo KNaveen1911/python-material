{
 "cells": [
  {
   "cell_type": "markdown",
   "id": "2c98876d",
   "metadata": {},
   "source": [
    "####  polymorphism:::ability of an object to take on many forms\n"
   ]
  },
  {
   "cell_type": "markdown",
   "id": "baa0fc95",
   "metadata": {},
   "source": [
    "1.duck typing :::an object passed into a function or method supports all method signatures and attributes excepted of that object at run time\n"
   ]
  },
  {
   "cell_type": "code",
   "execution_count": 2,
   "id": "79071164",
   "metadata": {},
   "outputs": [
    {
     "name": "stdout",
     "output_type": "stream",
     "text": [
      "car runs with petrol\n",
      "car runs with diesel\n",
      "bike runs with petrol\n",
      "ebike runs with electricity\n"
     ]
    }
   ],
   "source": [
    "class car:\n",
    "    def fuel(self):\n",
    "        print(\"car runs with petrol\")\n",
    "        print(\"car runs with diesel\")\n",
    "    \n",
    "class bike:\n",
    "    def fuel(self):\n",
    "        print(\"bike runs with petrol\")\n",
    "        \n",
    "class ebike:\n",
    "    def fuel(self):\n",
    "        print(\"ebike runs with electricity\")\n",
    "        \n",
    "        \n",
    "for obj in car(),bike(),ebike():\n",
    "    obj.fuel()"
   ]
  },
  {
   "cell_type": "markdown",
   "id": "05a88318",
   "metadata": {},
   "source": [
    "2.operator overloading :::performs an operation on one or two operands(values)\n"
   ]
  },
  {
   "cell_type": "code",
   "execution_count": 3,
   "id": "9f87c8de",
   "metadata": {},
   "outputs": [
    {
     "name": "stdout",
     "output_type": "stream",
     "text": [
      "11\n"
     ]
    }
   ],
   "source": [
    "a=3\n",
    "b=8\n",
    "print(a+b)"
   ]
  },
  {
   "cell_type": "code",
   "execution_count": 4,
   "id": "0507e386",
   "metadata": {},
   "outputs": [
    {
     "name": "stdout",
     "output_type": "stream",
     "text": [
      "11\n"
     ]
    }
   ],
   "source": [
    "print(int.__add__(a,b))"
   ]
  },
  {
   "cell_type": "code",
   "execution_count": 5,
   "id": "f91309de",
   "metadata": {},
   "outputs": [
    {
     "name": "stdout",
     "output_type": "stream",
     "text": [
      "11\n"
     ]
    }
   ],
   "source": [
    "print(a.__add__(b))"
   ]
  },
  {
   "cell_type": "code",
   "execution_count": 6,
   "id": "5a340d50",
   "metadata": {},
   "outputs": [
    {
     "name": "stdout",
     "output_type": "stream",
     "text": [
      "-5\n"
     ]
    }
   ],
   "source": [
    "print(a-b)"
   ]
  },
  {
   "cell_type": "code",
   "execution_count": 7,
   "id": "68772e60",
   "metadata": {},
   "outputs": [
    {
     "name": "stdout",
     "output_type": "stream",
     "text": [
      "-5\n"
     ]
    }
   ],
   "source": [
    "print(int.__sub__(a,b))"
   ]
  },
  {
   "cell_type": "code",
   "execution_count": 8,
   "id": "58406297",
   "metadata": {},
   "outputs": [
    {
     "name": "stdout",
     "output_type": "stream",
     "text": [
      "-5\n"
     ]
    }
   ],
   "source": [
    "print(a.__sub__(b))"
   ]
  },
  {
   "cell_type": "markdown",
   "id": "ec34451e",
   "metadata": {},
   "source": [
    "strings operation"
   ]
  },
  {
   "cell_type": "code",
   "execution_count": 15,
   "id": "a4f2e48b",
   "metadata": {},
   "outputs": [
    {
     "name": "stdout",
     "output_type": "stream",
     "text": [
      "naveenaditidigital\n"
     ]
    }
   ],
   "source": [
    "a=\"naveen\" \n",
    "b=\"aditidigital\"\n",
    "print(a+b)"
   ]
  },
  {
   "cell_type": "code",
   "execution_count": 16,
   "id": "0b7d1573",
   "metadata": {},
   "outputs": [
    {
     "name": "stdout",
     "output_type": "stream",
     "text": [
      "naveenaditidigital\n"
     ]
    }
   ],
   "source": [
    "print(str.__add__(a,b))"
   ]
  },
  {
   "cell_type": "code",
   "execution_count": null,
   "id": "da5c591a",
   "metadata": {},
   "outputs": [],
   "source": []
  },
  {
   "cell_type": "code",
   "execution_count": 23,
   "id": "2b48c5a6",
   "metadata": {},
   "outputs": [
    {
     "name": "stdout",
     "output_type": "stream",
     "text": [
      "145\n",
      "154\n"
     ]
    }
   ],
   "source": [
    "class student:\n",
    "    def __init__(self,m1,m2):\n",
    "        self.m1=m1\n",
    "        self.m2=m2\n",
    "        \n",
    "    def __add__(self,other):\n",
    "        m1=s1.m1+s2.m1\n",
    "        m2=s1.m2+s2.m2\n",
    "        s3=student(m1,m2)\n",
    "        return s3\n",
    "    \n",
    "s1=student(55,65)\n",
    "s2=student(90,89)\n",
    "s3=s1+s2\n",
    "print(s3.m1)\n",
    "print(s3.m2)"
   ]
  },
  {
   "cell_type": "markdown",
   "id": "e75a33de",
   "metadata": {},
   "source": [
    "3.method overloading::: methods with the same name but different arguments\n"
   ]
  },
  {
   "cell_type": "code",
   "execution_count": 25,
   "id": "13022c17",
   "metadata": {},
   "outputs": [
    {
     "name": "stdout",
     "output_type": "stream",
     "text": [
      "9\n"
     ]
    }
   ],
   "source": [
    "class sample:\n",
    "    def sum(self,a,b=None,c=None):\n",
    "        s=0\n",
    "        if(a!=None,b!=None,c!=None):\n",
    "            s=a+b+c\n",
    "        elif(a!=None,b!=None):\n",
    "            s=a+b\n",
    "        else:\n",
    "            s=a\n",
    "        return s\n",
    "    \n",
    "s1=sample()\n",
    "print(s1.sum(2,3,4))\n",
    "#print(s1.sum(2,3))\n",
    "#print(s1.sum(2))"
   ]
  },
  {
   "cell_type": "markdown",
   "id": "9b3cd912",
   "metadata": {},
   "source": [
    "4.method overriding :: \n",
    "If subclass (child class) has the same method as declared in the parent class"
   ]
  },
  {
   "cell_type": "code",
   "execution_count": 27,
   "id": "d0d5aa6f",
   "metadata": {},
   "outputs": [
    {
     "name": "stdout",
     "output_type": "stream",
     "text": [
      "this is parent function\n"
     ]
    }
   ],
   "source": [
    "class parent:\n",
    "    def output(self):\n",
    "        print(\"this is parent function\")\n",
    "        \n",
    "class child(parent):\n",
    "    pass\n",
    "\n",
    "obj=child()\n",
    "obj.output()"
   ]
  },
  {
   "cell_type": "code",
   "execution_count": 28,
   "id": "df072db8",
   "metadata": {},
   "outputs": [
    {
     "name": "stdout",
     "output_type": "stream",
     "text": [
      "this is child output\n"
     ]
    }
   ],
   "source": [
    "class parent:\n",
    "    def output(self):\n",
    "        print(\"this is parent function\")\n",
    "        \n",
    "class child(parent):\n",
    "    def output(self):\n",
    "        print(\"this is child output\")\n",
    "    pass\n",
    "\n",
    "obj1=child()\n",
    "obj1.output()"
   ]
  },
  {
   "cell_type": "code",
   "execution_count": 29,
   "id": "bee9e1fa",
   "metadata": {},
   "outputs": [
    {
     "name": "stdout",
     "output_type": "stream",
     "text": [
      "this is parent function\n"
     ]
    }
   ],
   "source": [
    "obj1=parent()\n",
    "obj1.output()"
   ]
  },
  {
   "cell_type": "code",
   "execution_count": null,
   "id": "1bdad0c2",
   "metadata": {},
   "outputs": [],
   "source": []
  },
  {
   "cell_type": "markdown",
   "id": "08ed153c",
   "metadata": {},
   "source": [
    "# Exception handling"
   ]
  },
  {
   "cell_type": "code",
   "execution_count": 36,
   "id": "5104d9b2",
   "metadata": {},
   "outputs": [
    {
     "name": "stdout",
     "output_type": "stream",
     "text": [
      "enter the  number1:4\n",
      "enter the  number2:0\n",
      "provide the number greater than zero\n"
     ]
    }
   ],
   "source": [
    "try:\n",
    "    # code block where exception can occur\n",
    "    a=int(input('enter the  number1:'))\n",
    "    b=int(input('enter the  number2:'))\n",
    "    c=a+b\n",
    "    d=a/b\n",
    "    e=a*b\n",
    "    print(c)\n",
    "    print(d)\n",
    "    print(e)\n",
    "    \n",
    "except NameError:\n",
    "    print('the user has not defined the variable')\n",
    "except TypeError :\n",
    "    print('provide the data type similar')\n",
    "except ZeroDivisionError:\n",
    "    print('provide the number greater than zero')\n",
    "except Exception as ex:\n",
    "    print(ex)\n",
    "else:\n",
    "    print(c,d,e)\n",
    "    \n",
    "    "
   ]
  },
  {
   "cell_type": "code",
   "execution_count": 38,
   "id": "1c054152",
   "metadata": {},
   "outputs": [
    {
     "name": "stdout",
     "output_type": "stream",
     "text": [
      "cant divide with zero: division by zero\n"
     ]
    }
   ],
   "source": [
    "x=12\n",
    "y=0\n",
    "try:\n",
    "    print(x/y) #critical section\n",
    "    \n",
    "except Exception as ex: # ex gives the name of the error\n",
    "    print(\"cant divide with zero:\",ex)\n",
    "        "
   ]
  },
  {
   "cell_type": "code",
   "execution_count": 43,
   "id": "1440274e",
   "metadata": {},
   "outputs": [
    {
     "name": "stdout",
     "output_type": "stream",
     "text": [
      "cant divide by zero: division by zero\n"
     ]
    }
   ],
   "source": [
    "x=12\n",
    "y=0  # even number\n",
    "try:\n",
    "    print(x/y)   #critical section\n",
    "except Exception as ex:    # ex gives the name of the error\n",
    "    print(\"cant divide by zero:\",ex)\n"
   ]
  },
  {
   "cell_type": "markdown",
   "id": "4998dfc7",
   "metadata": {},
   "source": [
    "\n",
    "# ITERATORS"
   ]
  },
  {
   "cell_type": "code",
   "execution_count": 56,
   "id": "669de8db",
   "metadata": {},
   "outputs": [],
   "source": [
    "# use keyword \"iter\"  for iteration\n",
    "list1 = [12,13,14,15,16,17,18]"
   ]
  },
  {
   "cell_type": "code",
   "execution_count": 57,
   "id": "6c56630f",
   "metadata": {},
   "outputs": [],
   "source": [
    "a=iter(list1)"
   ]
  },
  {
   "cell_type": "code",
   "execution_count": 58,
   "id": "23c8fd9c",
   "metadata": {},
   "outputs": [
    {
     "name": "stdout",
     "output_type": "stream",
     "text": [
      "12\n"
     ]
    }
   ],
   "source": [
    "print(a.__next__())"
   ]
  },
  {
   "cell_type": "code",
   "execution_count": 59,
   "id": "09465107",
   "metadata": {},
   "outputs": [
    {
     "name": "stdout",
     "output_type": "stream",
     "text": [
      "13\n"
     ]
    }
   ],
   "source": [
    "print(a.__next__())"
   ]
  },
  {
   "cell_type": "code",
   "execution_count": 60,
   "id": "cde74a30",
   "metadata": {},
   "outputs": [
    {
     "name": "stdout",
     "output_type": "stream",
     "text": [
      "14\n"
     ]
    }
   ],
   "source": [
    "print(a.__next__())"
   ]
  },
  {
   "cell_type": "code",
   "execution_count": 61,
   "id": "48cd565a",
   "metadata": {},
   "outputs": [
    {
     "name": "stdout",
     "output_type": "stream",
     "text": [
      "15\n"
     ]
    }
   ],
   "source": [
    "print(a.__next__())"
   ]
  },
  {
   "cell_type": "code",
   "execution_count": 62,
   "id": "2004a467",
   "metadata": {},
   "outputs": [
    {
     "name": "stdout",
     "output_type": "stream",
     "text": [
      "16\n"
     ]
    }
   ],
   "source": [
    "print(a.__next__())"
   ]
  },
  {
   "cell_type": "code",
   "execution_count": 63,
   "id": "ead7185f",
   "metadata": {},
   "outputs": [
    {
     "name": "stdout",
     "output_type": "stream",
     "text": [
      "17\n"
     ]
    }
   ],
   "source": [
    "print(a.__next__())"
   ]
  },
  {
   "cell_type": "code",
   "execution_count": 64,
   "id": "bd12aa1c",
   "metadata": {},
   "outputs": [
    {
     "name": "stdout",
     "output_type": "stream",
     "text": [
      "18\n"
     ]
    }
   ],
   "source": [
    "print(a.__next__())"
   ]
  },
  {
   "cell_type": "code",
   "execution_count": 65,
   "id": "d2bd6ebb",
   "metadata": {},
   "outputs": [
    {
     "ename": "StopIteration",
     "evalue": "",
     "output_type": "error",
     "traceback": [
      "\u001b[1;31m---------------------------------------------------------------------------\u001b[0m",
      "\u001b[1;31mStopIteration\u001b[0m                             Traceback (most recent call last)",
      "\u001b[1;32m~\\AppData\\Local\\Temp/ipykernel_6532/518983988.py\u001b[0m in \u001b[0;36m<module>\u001b[1;34m\u001b[0m\n\u001b[1;32m----> 1\u001b[1;33m \u001b[0mprint\u001b[0m\u001b[1;33m(\u001b[0m\u001b[0ma\u001b[0m\u001b[1;33m.\u001b[0m\u001b[0m__next__\u001b[0m\u001b[1;33m(\u001b[0m\u001b[1;33m)\u001b[0m\u001b[1;33m)\u001b[0m\u001b[1;33m\u001b[0m\u001b[1;33m\u001b[0m\u001b[0m\n\u001b[0m",
      "\u001b[1;31mStopIteration\u001b[0m: "
     ]
    }
   ],
   "source": [
    "print(a.__next__())"
   ]
  },
  {
   "cell_type": "code",
   "execution_count": null,
   "id": "1327653b",
   "metadata": {},
   "outputs": [],
   "source": []
  },
  {
   "cell_type": "code",
   "execution_count": null,
   "id": "ea0b9eb4",
   "metadata": {},
   "outputs": [],
   "source": []
  }
 ],
 "metadata": {
  "kernelspec": {
   "display_name": "Python 3 (ipykernel)",
   "language": "python",
   "name": "python3"
  },
  "language_info": {
   "codemirror_mode": {
    "name": "ipython",
    "version": 3
   },
   "file_extension": ".py",
   "mimetype": "text/x-python",
   "name": "python",
   "nbconvert_exporter": "python",
   "pygments_lexer": "ipython3",
   "version": "3.9.7"
  }
 },
 "nbformat": 4,
 "nbformat_minor": 5
}
