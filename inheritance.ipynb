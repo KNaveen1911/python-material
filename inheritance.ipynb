{
 "cells": [
  {
   "cell_type": "markdown",
   "id": "5c56c827",
   "metadata": {},
   "source": [
    "## inheritance"
   ]
  },
  {
   "cell_type": "markdown",
   "id": "32054a16",
   "metadata": {},
   "source": [
    "###  single inheritance:: \n",
    "1.inhetance involves one child class and one parent class\n",
    "2.child class derives the members of the one parent class"
   ]
  },
  {
   "cell_type": "code",
   "execution_count": 2,
   "id": "e598acdb",
   "metadata": {
    "scrolled": true
   },
   "outputs": [
    {
     "name": "stdout",
     "output_type": "stream",
     "text": [
      "this is fun3 child\n",
      "this is fun4 child\n",
      "this is fun2 parent\n",
      "this is fun1 parent\n",
      "this is fun1 parent\n",
      "this is fun2 parent\n"
     ]
    },
    {
     "ename": "AttributeError",
     "evalue": "'parent' object has no attribute 'fun3'",
     "output_type": "error",
     "traceback": [
      "\u001b[1;31m---------------------------------------------------------------------------\u001b[0m",
      "\u001b[1;31mAttributeError\u001b[0m                            Traceback (most recent call last)",
      "\u001b[1;32m~\\AppData\\Local\\Temp/ipykernel_10556/404218432.py\u001b[0m in \u001b[0;36m<module>\u001b[1;34m\u001b[0m\n\u001b[0;32m     21\u001b[0m \u001b[0mp1\u001b[0m\u001b[1;33m.\u001b[0m\u001b[0mfun1\u001b[0m\u001b[1;33m(\u001b[0m\u001b[1;33m)\u001b[0m\u001b[1;33m\u001b[0m\u001b[1;33m\u001b[0m\u001b[0m\n\u001b[0;32m     22\u001b[0m \u001b[0mp1\u001b[0m\u001b[1;33m.\u001b[0m\u001b[0mfun2\u001b[0m\u001b[1;33m(\u001b[0m\u001b[1;33m)\u001b[0m\u001b[1;33m\u001b[0m\u001b[1;33m\u001b[0m\u001b[0m\n\u001b[1;32m---> 23\u001b[1;33m \u001b[0mp1\u001b[0m\u001b[1;33m.\u001b[0m\u001b[0mfun3\u001b[0m\u001b[1;33m(\u001b[0m\u001b[1;33m)\u001b[0m\u001b[1;33m\u001b[0m\u001b[1;33m\u001b[0m\u001b[0m\n\u001b[0m\u001b[0;32m     24\u001b[0m \u001b[0mp1\u001b[0m\u001b[1;33m.\u001b[0m\u001b[0mfun4\u001b[0m\u001b[1;33m(\u001b[0m\u001b[1;33m)\u001b[0m\u001b[1;33m\u001b[0m\u001b[1;33m\u001b[0m\u001b[0m\n",
      "\u001b[1;31mAttributeError\u001b[0m: 'parent' object has no attribute 'fun3'"
     ]
    }
   ],
   "source": [
    "#single inheritance(base and derived class)\n",
    "class parent:\n",
    "    def fun1(self):\n",
    "        print(\"this is fun1 parent\")\n",
    "    def fun2(self):\n",
    "        print(\"this is fun2 parent\")\n",
    "        \n",
    "class child(parent):\n",
    "    def fun3(self):\n",
    "        print(\"this is fun3 child\")\n",
    "    def fun4(self):\n",
    "        print(\"this is fun4 child\")\n",
    "        \n",
    "c1=child()\n",
    "c1.fun3()\n",
    "c1.fun4()\n",
    "c1.fun2()\n",
    "c1.fun1()\n",
    "\n",
    "p1=parent()\n",
    "p1.fun1()\n",
    "p1.fun2()\n",
    "p1.fun3()  #AttributeError: 'parent' object has no attribute 'function3 and 4'\n",
    "p1.fun4()"
   ]
  },
  {
   "cell_type": "code",
   "execution_count": 3,
   "id": "f2c25ad7",
   "metadata": {},
   "outputs": [
    {
     "name": "stdout",
     "output_type": "stream",
     "text": [
      "I am parent class function\n",
      "I am child class function\n"
     ]
    }
   ],
   "source": [
    "class ParentClass:\n",
    "    def par_func(self):\n",
    "         print(\"I am parent class function\")\n",
    "\n",
    "# Child class\n",
    "class ChildClass(ParentClass):\n",
    "    def child_func(self):\n",
    "         print(\"I am child class function\")\n",
    "\n",
    "# Driver code\n",
    "obj1 = ChildClass()\n",
    "obj1.par_func()\n",
    "obj1.child_func()"
   ]
  },
  {
   "cell_type": "markdown",
   "id": "80f0aeaa",
   "metadata": {},
   "source": [
    "###  single inheritance using __init__ function"
   ]
  },
  {
   "cell_type": "code",
   "execution_count": 22,
   "id": "be47121a",
   "metadata": {},
   "outputs": [
    {
     "name": "stdout",
     "output_type": "stream",
     "text": [
      "this is parent init\n",
      "this is child init\n",
      "this is parent class fun1\n",
      "this is child class fun2\n"
     ]
    }
   ],
   "source": [
    "class parent:\n",
    "    def __init__(self):\n",
    "        print(\"this is parent init\")\n",
    "    \n",
    "    def fun1(self):\n",
    "        print(\"this is parent class fun1\")\n",
    "        \n",
    "class child(parent):\n",
    "    def __init__(self):\n",
    "        super().  __init__()  # to access  the parent class\n",
    "        print(\"this is child init\")\n",
    "    \n",
    "    def fun2(self):\n",
    "        print(\"this is child class fun2\")\n",
    "        \n",
    "        \n",
    "c1=child()\n",
    "c1.fun1()\n",
    "c1.fun2()"
   ]
  },
  {
   "cell_type": "code",
   "execution_count": null,
   "id": "2509656f",
   "metadata": {},
   "outputs": [],
   "source": []
  },
  {
   "cell_type": "code",
   "execution_count": 24,
   "id": "893932e3",
   "metadata": {},
   "outputs": [
    {
     "name": "stdout",
     "output_type": "stream",
     "text": [
      "this is child init\n",
      "this is parent calss fun1\n",
      "this is child class fun2\n"
     ]
    }
   ],
   "source": [
    "class parent:\n",
    "    def __init__(self):\n",
    "        super().__init__()  # to access  the child class\n",
    "        print(\"this is parent init\")    \n",
    "    def fun1(self):\n",
    "        print(\"this is parent calss fun1\")\n",
    "        \n",
    "class child(parent):\n",
    "    def __init__(self):     \n",
    "        print(\"this is child init\")   \n",
    "    def fun2(self):\n",
    "        print(\"this is child class fun2\")\n",
    "        \n",
    "\n",
    "c1=child()\n",
    "c1.fun1()\n",
    "c1.fun2()"
   ]
  },
  {
   "cell_type": "markdown",
   "id": "974c772f",
   "metadata": {},
   "source": [
    "## multi-level inheritance::\n",
    "the child class acts as a parent class for another child class\n"
   ]
  },
  {
   "cell_type": "code",
   "execution_count": 10,
   "id": "3dc2d5d5",
   "metadata": {},
   "outputs": [
    {
     "name": "stdout",
     "output_type": "stream",
     "text": [
      "this is function1 of grandparent class\n",
      "this is function2 of parent class\n",
      "this is function3 of child class\n",
      "this is function1 of grandparent class\n",
      "this is function2 of parent class\n"
     ]
    }
   ],
   "source": [
    "class Gparent:\n",
    "    def function1(self):\n",
    "        print(\"this is function1 of grandparent class\")\n",
    "\n",
    "class parent(Gparent):\n",
    "    def function2(self):\n",
    "        print(\"this is function2 of parent class\")\n",
    "\n",
    "class child(parent):\n",
    "    def function3(self):\n",
    "        print(\"this is function3 of child class\")\n",
    "\n",
    "c1=child()\n",
    "c1.function1()\n",
    "c1.function2()\n",
    "c1.function3()\n",
    "\n",
    "c2=parent()\n",
    "c2.function1()\n",
    "c2.function2()\n",
    "#c2.function3()   #AttributeError: 'parent' object has no attribute 'function3'\n",
    "\n"
   ]
  },
  {
   "cell_type": "markdown",
   "id": "840c2979",
   "metadata": {},
   "source": [
    "##  multiple inheritance\n",
    "it involves more than one parent class"
   ]
  },
  {
   "cell_type": "code",
   "execution_count": 9,
   "id": "2507e1a2",
   "metadata": {},
   "outputs": [
    {
     "name": "stdout",
     "output_type": "stream",
     "text": [
      "this is function1 parent1\n",
      "this is function2 parent2\n",
      "this is function3 child\n"
     ]
    }
   ],
   "source": [
    "class parent1:\n",
    "    def function1(self):\n",
    "        print(\"this is function1 parent1\")\n",
    "class parent2:\n",
    "    def function2(self):\n",
    "        print(\"this is function2 parent2\")\n",
    "        \n",
    "class child(parent1,parent2):   # can also give 1 parent\n",
    "    def function3(self):\n",
    "        print(\"this is function3 child\")\n",
    "        \n",
    "c1=child()\n",
    "c1.function1()\n",
    "c1.function2()        \n",
    "c1.function3()"
   ]
  },
  {
   "cell_type": "code",
   "execution_count": 19,
   "id": "9e5397a6",
   "metadata": {},
   "outputs": [
    {
     "name": "stdout",
     "output_type": "stream",
     "text": [
      "7\n",
      "1\n",
      "32\n",
      "0.5714285714285714\n",
      "4\n"
     ]
    }
   ],
   "source": [
    "class addition:\n",
    "    def add(self,a,b):\n",
    "        print(a+b)\n",
    "        \n",
    "class subtraction:\n",
    "    def subtract(self,a,b):\n",
    "        print(a-b)\n",
    "        \n",
    "class multiplication:\n",
    "    def multiply(self,a,b):\n",
    "        print(a*b)\n",
    "\n",
    "class division:\n",
    "    def divide(self,a,b):\n",
    "        print(a/b)\n",
    "        \n",
    "class mathfunctions(addition,subtraction,multiplication,division):\n",
    "    def moddivide(self,a,b):\n",
    "        print(a%b)\n",
    "\n",
    "\n",
    "c1=mathfunctions()\n",
    "c1.add(3,4)\n",
    "c1.subtract(9,8)\n",
    "c1.multiply(4,8)\n",
    "c1.divide(4,7)\n",
    "c1.moddivide(4,7)        \n"
   ]
  },
  {
   "cell_type": "code",
   "execution_count": null,
   "id": "0bd179d9",
   "metadata": {},
   "outputs": [],
   "source": []
  },
  {
   "cell_type": "code",
   "execution_count": 20,
   "id": "0c2e5a93",
   "metadata": {},
   "outputs": [
    {
     "name": "stdout",
     "output_type": "stream",
     "text": [
      "cashier: deals with cash transfer \n",
      "crm: deals with customer\n",
      "assistantmanager:deals with cash,crm and loans\n",
      "manager:deals with locker and assistantmanager\n"
     ]
    }
   ],
   "source": [
    "class cashier:\n",
    "    def fun1(self):\n",
    "        print(\"cashier: deals with cash transfer \")\n",
    "\n",
    "class crm:\n",
    "    def fun2(self):\n",
    "        print(\"crm: deals with customer\")\n",
    "        \n",
    "class assistantmanager:\n",
    "    def fun3(self):\n",
    "        print(\"assistantmanager:deals with cash,crm and loans\")\n",
    "\n",
    "class manager:\n",
    "    def fun4(self): \n",
    "        print(\"manager:deals with locker and assistantmanager\")\n",
    "\n",
    "class bank(cashier,crm,assistantmanager,manager):\n",
    "    pass\n",
    "\n",
    "c1=bank()\n",
    "c1.fun1()\n",
    "c1.fun2()\n",
    "c1.fun3()\n",
    "c1.fun4()\n",
    "\n",
    "        "
   ]
  },
  {
   "cell_type": "code",
   "execution_count": 21,
   "id": "c7f12e75",
   "metadata": {},
   "outputs": [
    {
     "name": "stdout",
     "output_type": "stream",
     "text": [
      "deals with cash transfer \n",
      " deals with customer\n",
      "deals with cash,crm and loans\n",
      "deals with locker and assistantmanager\n"
     ]
    }
   ],
   "source": [
    "class cashier:\n",
    "    def fun1(self):\n",
    "        print(\"deals with cash transfer \")\n",
    "class crm:\n",
    "    def fun2(self):\n",
    "        print(\" deals with customer\")\n",
    "class assistantmanager(cashier,crm):\n",
    "    def fun3(self):\n",
    "        print(\"deals with cash,crm and loans\")\n",
    "class manager(assistantmanager):\n",
    "    def fun4(self): \n",
    "        print(\"deals with locker and assistantmanager\")\n",
    "\n",
    "\n",
    "c1=manager()\n",
    "c1.fun1()\n",
    "c1.fun2()\n",
    "c1.fun3()\n",
    "c1.fun4()"
   ]
  },
  {
   "cell_type": "markdown",
   "id": "4193398b",
   "metadata": {},
   "source": [
    "####  method resolution order(MRO)\n",
    "chils is derived from parent1 ,parent2\n",
    "\n",
    "parent1 and parent are having init"
   ]
  },
  {
   "cell_type": "code",
   "execution_count": 25,
   "id": "09ac26ce",
   "metadata": {},
   "outputs": [
    {
     "name": "stdout",
     "output_type": "stream",
     "text": [
      "this is parent1 init\n",
      "this is child init\n",
      "this is function1\n",
      "this is function2\n",
      "this is function3\n"
     ]
    }
   ],
   "source": [
    "class parent1:\n",
    "    def __init__(self):\n",
    "        print(\"this is parent1 init\")\n",
    "\n",
    "    def function1(self):\n",
    "        print(\"this is function1\")\n",
    "        \n",
    "class parent2:\n",
    "    def __init__(self):\n",
    "        print(\"this is patrent2 init\")\n",
    "\n",
    "    def function2(self):\n",
    "        print(\"this is function2\")\n",
    "\n",
    "class child(parent1,parent2):    # or we can write class child(parent2,parent1):\n",
    "    def __init__(self):\n",
    "        super().__init__()  # to acess the above parent classes\n",
    "        print(\"this is child init\")\n",
    "\n",
    "    def function3(self):\n",
    "        print(\"this is function3\")\n",
    "\n",
    "c1=child()\n",
    "c1.function1()\n",
    "c1.function2()\n",
    "c1.function3()\n"
   ]
  },
  {
   "cell_type": "code",
   "execution_count": null,
   "id": "2ab7af23",
   "metadata": {},
   "outputs": [],
   "source": []
  },
  {
   "cell_type": "markdown",
   "id": "34f80f3c",
   "metadata": {},
   "source": [
    "## hierarchical inheritance\n",
    "parent class is derived by more than one child class"
   ]
  },
  {
   "cell_type": "code",
   "execution_count": 12,
   "id": "d7e14454",
   "metadata": {},
   "outputs": [
    {
     "name": "stdout",
     "output_type": "stream",
     "text": [
      "this is function1 parent\n",
      "this is  function2 child1\n",
      "this is function1 parent\n",
      "this is function3 child2\n"
     ]
    }
   ],
   "source": [
    "class parent:\n",
    "    def function1(self):\n",
    "        print(\"this is function1 parent\")\n",
    "        \n",
    "class child1(parent):\n",
    "    def function2(self):\n",
    "        print(\"this is  function2 child1\")\n",
    "        \n",
    "class child2(parent):\n",
    "    def function3(self):\n",
    "        print(\"this is function3 child2\")\n",
    "        \n",
    "        \n",
    "c1=child1()\n",
    "c1.function1()\n",
    "c1.function2()   \n",
    "\n",
    "\n",
    "c2=child2()\n",
    "c2.function1()\n",
    "c2.function3()"
   ]
  },
  {
   "cell_type": "code",
   "execution_count": null,
   "id": "928114b6",
   "metadata": {},
   "outputs": [],
   "source": []
  }
 ],
 "metadata": {
  "kernelspec": {
   "display_name": "Python 3 (ipykernel)",
   "language": "python",
   "name": "python3"
  },
  "language_info": {
   "codemirror_mode": {
    "name": "ipython",
    "version": 3
   },
   "file_extension": ".py",
   "mimetype": "text/x-python",
   "name": "python",
   "nbconvert_exporter": "python",
   "pygments_lexer": "ipython3",
   "version": "3.9.7"
  }
 },
 "nbformat": 4,
 "nbformat_minor": 5
}
