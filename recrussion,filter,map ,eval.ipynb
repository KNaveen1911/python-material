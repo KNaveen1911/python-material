{
 "cells": [
  {
   "cell_type": "markdown",
   "id": "8d2ddd81",
   "metadata": {},
   "source": [
    "# Recurssion\n",
    "function calling itself again and again to compute a value\n"
   ]
  },
  {
   "cell_type": "code",
   "execution_count": 1,
   "id": "45c5dbbe",
   "metadata": {},
   "outputs": [
    {
     "name": "stdout",
     "output_type": "stream",
     "text": [
      "enter the number:5\n",
      "factorial: 120\n"
     ]
    }
   ],
   "source": [
    "#factorial\n",
    "\n",
    "def fact(n):\n",
    "    if n==0:\n",
    "        return 1\n",
    "    return(n*fact(n-1))\n",
    "\n",
    "n=int(input(\"enter the number:\"))\n",
    "f=fact(n)\n",
    "print(\"factorial:\",f)"
   ]
  },
  {
   "cell_type": "code",
   "execution_count": 2,
   "id": "18195e03",
   "metadata": {},
   "outputs": [
    {
     "name": "stdout",
     "output_type": "stream",
     "text": [
      "5050\n"
     ]
    }
   ],
   "source": [
    "# adding the numbers\n",
    "def sum(n):\n",
    "    total=0\n",
    "    for index in range(n+1):\n",
    "        total=total+index\n",
    "    return total\n",
    "\n",
    "result=sum(100)\n",
    "print(result)"
   ]
  },
  {
   "cell_type": "code",
   "execution_count": 3,
   "id": "f3bab310",
   "metadata": {},
   "outputs": [
    {
     "name": "stdout",
     "output_type": "stream",
     "text": [
      "120\n"
     ]
    }
   ],
   "source": [
    "def fact(x):\n",
    "    if x==1:\n",
    "        return 1\n",
    "    else:\n",
    "        return(x*fact(x-1))\n",
    "    \n",
    "num=5\n",
    "print(fact(num))"
   ]
  },
  {
   "cell_type": "code",
   "execution_count": null,
   "id": "991c83f8",
   "metadata": {},
   "outputs": [],
   "source": []
  },
  {
   "cell_type": "markdown",
   "id": "b95cb312",
   "metadata": {},
   "source": [
    "## map function\n",
    "booolean type--->it gives true /false\n"
   ]
  },
  {
   "cell_type": "code",
   "execution_count": 7,
   "id": "ddf7b253",
   "metadata": {},
   "outputs": [
    {
     "name": "stdout",
     "output_type": "stream",
     "text": [
      "the number 23 is false\n"
     ]
    }
   ],
   "source": [
    "def even_or_odd(num):\n",
    "    if num%2==0:\n",
    "        return 'the number {} is true'.format(num)\n",
    "    else:\n",
    "        return 'the number {} is false'.format(num)\n",
    "        \n",
    "x = even_or_odd(23)\n",
    "print(x)"
   ]
  },
  {
   "cell_type": "code",
   "execution_count": 10,
   "id": "2ad6cdca",
   "metadata": {},
   "outputs": [
    {
     "name": "stdout",
     "output_type": "stream",
     "text": [
      "['the number 1 is False', 'the number 2 is True', 'the number 3 is False', 'the number 4 is True', 'the number 5 is False', 'the number 6 is True', 'the number 7 is False', 'the number 8 is True', 'the number 9 is False', 'the number 10 is True']\n"
     ]
    }
   ],
   "source": [
    "lst=[1,2,3,4,5,6,7,8,9,10]\n",
    "\n",
    "def even_or_odd(num):\n",
    "    if num%2==0:\n",
    "        return 'the number {} is True'.format(num)\n",
    "    else:\n",
    "        return 'the number {} is False'.format(num) #.format  is most importantt\n",
    "\n",
    "x=list(map(even_or_odd,lst))\n",
    "print(x)"
   ]
  },
  {
   "cell_type": "markdown",
   "id": "7f06aa1c",
   "metadata": {},
   "source": [
    "# Filter"
   ]
  },
  {
   "cell_type": "code",
   "execution_count": 12,
   "id": "28d104b4",
   "metadata": {},
   "outputs": [
    {
     "name": "stdout",
     "output_type": "stream",
     "text": [
      "[2, 4, 6, 8, 110]\n"
     ]
    }
   ],
   "source": [
    "def even(n):\n",
    "    if n%2==0:\n",
    "        return True\n",
    "lst=[1,2,3,4,5,6,77,8,9,110]\n",
    "x=list(filter(even,lst))\n",
    "print(x)"
   ]
  },
  {
   "cell_type": "code",
   "execution_count": 13,
   "id": "cb56df40",
   "metadata": {},
   "outputs": [
    {
     "name": "stdout",
     "output_type": "stream",
     "text": [
      "[2, 4, 6, 8, 110]\n"
     ]
    }
   ],
   "source": [
    "lst=[1,2,3,4,5,6,77,8,9,110]\n",
    "x=list(filter(lambda n:n%2==0,lst))\n",
    "print(x)"
   ]
  },
  {
   "cell_type": "markdown",
   "id": "f51ac9dc",
   "metadata": {},
   "source": [
    "# Eval\n",
    "evaluate python expression which are written as strings\n"
   ]
  },
  {
   "cell_type": "code",
   "execution_count": 16,
   "id": "8778af44",
   "metadata": {},
   "outputs": [
    {
     "name": "stdout",
     "output_type": "stream",
     "text": [
      "25\n",
      "2.0\n"
     ]
    }
   ],
   "source": [
    "x=eval(\"5*5\")\n",
    "y=eval(\"5*5%7/2\")\n",
    "print(x)# single can be taken\n",
    "print(y)"
   ]
  },
  {
   "cell_type": "code",
   "execution_count": 19,
   "id": "96ca4ee0",
   "metadata": {},
   "outputs": [
    {
     "name": "stdout",
     "output_type": "stream",
     "text": [
      "568\n"
     ]
    }
   ],
   "source": [
    "def square_num(num):\n",
    "    return num*2 ## num**2\n",
    "x=eval(\"square_num(284)\")\n",
    "print(x)"
   ]
  },
  {
   "cell_type": "code",
   "execution_count": null,
   "id": "8d3443fe",
   "metadata": {},
   "outputs": [],
   "source": []
  }
 ],
 "metadata": {
  "kernelspec": {
   "display_name": "Python 3 (ipykernel)",
   "language": "python",
   "name": "python3"
  },
  "language_info": {
   "codemirror_mode": {
    "name": "ipython",
    "version": 3
   },
   "file_extension": ".py",
   "mimetype": "text/x-python",
   "name": "python",
   "nbconvert_exporter": "python",
   "pygments_lexer": "ipython3",
   "version": "3.9.7"
  }
 },
 "nbformat": 4,
 "nbformat_minor": 5
}
