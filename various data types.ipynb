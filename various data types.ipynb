{
 "cells": [
  {
   "cell_type": "code",
   "execution_count": 1,
   "id": "afc50ddd",
   "metadata": {},
   "outputs": [
    {
     "data": {
      "text/plain": [
       "2"
      ]
     },
     "execution_count": 1,
     "metadata": {},
     "output_type": "execute_result"
    }
   ],
   "source": [
    "1+1"
   ]
  },
  {
   "cell_type": "code",
   "execution_count": 2,
   "id": "2984cffe",
   "metadata": {},
   "outputs": [
    {
     "data": {
      "text/plain": [
       "20"
      ]
     },
     "execution_count": 2,
     "metadata": {},
     "output_type": "execute_result"
    }
   ],
   "source": [
    "4*5"
   ]
  },
  {
   "cell_type": "code",
   "execution_count": 4,
   "id": "9c2a5f9a",
   "metadata": {},
   "outputs": [
    {
     "data": {
      "text/plain": [
       "'strstrstrstrstrstrstrstrstrstrstrstrstrstrstrstrstrstrstrstrstrstrstrstrstrstrstrstrstrstr'"
      ]
     },
     "execution_count": 4,
     "metadata": {},
     "output_type": "execute_result"
    }
   ],
   "source": [
    "30*'str'"
   ]
  },
  {
   "cell_type": "markdown",
   "id": "1078086b",
   "metadata": {},
   "source": [
    "# strings\n"
   ]
  },
  {
   "cell_type": "code",
   "execution_count": 6,
   "id": "2826eef8",
   "metadata": {},
   "outputs": [
    {
     "data": {
      "text/plain": [
       "int"
      ]
     },
     "execution_count": 6,
     "metadata": {},
     "output_type": "execute_result"
    }
   ],
   "source": [
    "type(10)"
   ]
  },
  {
   "cell_type": "code",
   "execution_count": 8,
   "id": "b6353cb2",
   "metadata": {},
   "outputs": [
    {
     "data": {
      "text/plain": [
       "str"
      ]
     },
     "execution_count": 8,
     "metadata": {},
     "output_type": "execute_result"
    }
   ],
   "source": [
    "type(\"naveen\")"
   ]
  },
  {
   "cell_type": "code",
   "execution_count": 10,
   "id": "e8b80d41",
   "metadata": {},
   "outputs": [
    {
     "data": {
      "text/plain": [
       "bool"
      ]
     },
     "execution_count": 10,
     "metadata": {},
     "output_type": "execute_result"
    }
   ],
   "source": [
    "type(True)"
   ]
  },
  {
   "cell_type": "markdown",
   "id": "74bfe6f2",
   "metadata": {},
   "source": [
    "# variable assignments"
   ]
  },
  {
   "cell_type": "code",
   "execution_count": 11,
   "id": "c76e84b0",
   "metadata": {},
   "outputs": [],
   "source": [
    "a=10\n",
    "b=20"
   ]
  },
  {
   "cell_type": "code",
   "execution_count": 13,
   "id": "9b370d8f",
   "metadata": {},
   "outputs": [
    {
     "name": "stdout",
     "output_type": "stream",
     "text": [
      "200\n",
      "30\n",
      "10\n",
      "0.5\n"
     ]
    }
   ],
   "source": [
    "print(a*b)\n",
    "print(a^b)\n",
    "print(a%b)\n",
    "print(a/b)"
   ]
  },
  {
   "cell_type": "code",
   "execution_count": 14,
   "id": "7c6e365c",
   "metadata": {},
   "outputs": [
    {
     "name": "stdout",
     "output_type": "stream",
     "text": [
      "hello\n"
     ]
    }
   ],
   "source": [
    "print(\"hello\")"
   ]
  },
  {
   "cell_type": "markdown",
   "id": "890c0bca",
   "metadata": {},
   "source": [
    " # format"
   ]
  },
  {
   "cell_type": "code",
   "execution_count": 15,
   "id": "ec7685d8",
   "metadata": {},
   "outputs": [],
   "source": [
    "first_name=\"naveen\"\n",
    "last_name=\"kuruva\""
   ]
  },
  {
   "cell_type": "code",
   "execution_count": 18,
   "id": "9cd5e7b1",
   "metadata": {},
   "outputs": [
    {
     "name": "stdout",
     "output_type": "stream",
     "text": [
      "my first_name is naveen and last_name is kuruva\n"
     ]
    }
   ],
   "source": [
    "print(\"my first_name is {} and last_name is {}\".format(first_name,last_name))"
   ]
  },
  {
   "cell_type": "code",
   "execution_count": 19,
   "id": "a9a44a3a",
   "metadata": {},
   "outputs": [
    {
     "name": "stdout",
     "output_type": "stream",
     "text": [
      "my first_name is naveen and last_name is kuruva\n"
     ]
    }
   ],
   "source": [
    "print(\"my first_name is {first} and last_name is {last}\".format(first=first_name,last=last_name))"
   ]
  },
  {
   "cell_type": "markdown",
   "id": "d30a98f7",
   "metadata": {},
   "source": [
    "# python data structures\n"
   ]
  },
  {
   "cell_type": "code",
   "execution_count": 21,
   "id": "98fe65e0",
   "metadata": {},
   "outputs": [
    {
     "data": {
      "text/plain": [
       "bool"
      ]
     },
     "execution_count": 21,
     "metadata": {},
     "output_type": "execute_result"
    }
   ],
   "source": [
    "type(True)"
   ]
  },
  {
   "cell_type": "code",
   "execution_count": 32,
   "id": "ca32935a",
   "metadata": {},
   "outputs": [],
   "source": [
    "my_str=\"Nani\""
   ]
  },
  {
   "cell_type": "code",
   "execution_count": 27,
   "id": "eb5a41c6",
   "metadata": {},
   "outputs": [
    {
     "data": {
      "text/plain": [
       "True"
      ]
     },
     "execution_count": 27,
     "metadata": {},
     "output_type": "execute_result"
    }
   ],
   "source": [
    "my_str.isalnum()"
   ]
  },
  {
   "cell_type": "code",
   "execution_count": 33,
   "id": "e86ea77a",
   "metadata": {},
   "outputs": [
    {
     "name": "stdout",
     "output_type": "stream",
     "text": [
      "True\n",
      "True\n",
      "False\n",
      "True\n",
      "False\n",
      "False\n",
      "False\n",
      "False\n",
      "True\n"
     ]
    }
   ],
   "source": [
    "print(my_str.isalnum()) #check if all char are numbers\n",
    "print(my_str.isalpha()) #check if all char in the string are alphabetic\n",
    "print(my_str.isdigit()) #test if string contains the digit\n",
    "print(my_str.istitle()) #test if string contains the title words\n",
    "print(my_str.isupper()) #test if string contains the upper case\n",
    "print(my_str.islower()) #test if string contains lowre case\n",
    "print(my_str.isspace()) #test if string contains spaces\n",
    "print(my_str.endswith('3')) #test if string ends with\n",
    "print(my_str.startswith('N')) #test if string startswith N "
   ]
  },
  {
   "cell_type": "code",
   "execution_count": 34,
   "id": "71d151a7",
   "metadata": {},
   "outputs": [],
   "source": [
    "lst=[1,2,3,4,5,6,]"
   ]
  },
  {
   "cell_type": "code",
   "execution_count": 35,
   "id": "6c65577b",
   "metadata": {},
   "outputs": [
    {
     "data": {
      "text/plain": [
       "21"
      ]
     },
     "execution_count": 35,
     "metadata": {},
     "output_type": "execute_result"
    }
   ],
   "source": [
    "sum(lst)"
   ]
  },
  {
   "cell_type": "code",
   "execution_count": 36,
   "id": "8b07230a",
   "metadata": {},
   "outputs": [],
   "source": [
    "lst.extend([7,8,9])"
   ]
  },
  {
   "cell_type": "code",
   "execution_count": 37,
   "id": "cb127b5d",
   "metadata": {},
   "outputs": [
    {
     "data": {
      "text/plain": [
       "[1, 2, 3, 4, 5, 6, 7, 8, 9]"
      ]
     },
     "execution_count": 37,
     "metadata": {},
     "output_type": "execute_result"
    }
   ],
   "source": [
    "lst"
   ]
  },
  {
   "cell_type": "code",
   "execution_count": 41,
   "id": "4d722835",
   "metadata": {},
   "outputs": [],
   "source": [
    "lst.insert(3,11)"
   ]
  },
  {
   "cell_type": "code",
   "execution_count": 42,
   "id": "8eb26521",
   "metadata": {},
   "outputs": [
    {
     "data": {
      "text/plain": [
       "[1, 2, 3, 11, 4, 5, 6, 7, 8, 9]"
      ]
     },
     "execution_count": 42,
     "metadata": {},
     "output_type": "execute_result"
    }
   ],
   "source": [
    "lst"
   ]
  },
  {
   "cell_type": "code",
   "execution_count": 43,
   "id": "dcad6ced",
   "metadata": {},
   "outputs": [],
   "source": [
    "lst.append([10,13])"
   ]
  },
  {
   "cell_type": "code",
   "execution_count": 44,
   "id": "2e98ae0b",
   "metadata": {},
   "outputs": [
    {
     "data": {
      "text/plain": [
       "[1, 2, 3, 11, 4, 5, 6, 7, 8, 9, [10, 13]]"
      ]
     },
     "execution_count": 44,
     "metadata": {},
     "output_type": "execute_result"
    }
   ],
   "source": [
    "lst"
   ]
  },
  {
   "cell_type": "code",
   "execution_count": 45,
   "id": "b4b92a35",
   "metadata": {},
   "outputs": [
    {
     "data": {
      "text/plain": [
       "[10, 13]"
      ]
     },
     "execution_count": 45,
     "metadata": {},
     "output_type": "execute_result"
    }
   ],
   "source": [
    "lst.pop()"
   ]
  },
  {
   "cell_type": "code",
   "execution_count": 46,
   "id": "c8a9b909",
   "metadata": {},
   "outputs": [
    {
     "data": {
      "text/plain": [
       "5"
      ]
     },
     "execution_count": 46,
     "metadata": {},
     "output_type": "execute_result"
    }
   ],
   "source": [
    "lst.pop(5)"
   ]
  },
  {
   "cell_type": "markdown",
   "id": "83c885ea",
   "metadata": {},
   "source": [
    "# count"
   ]
  },
  {
   "cell_type": "code",
   "execution_count": 51,
   "id": "b962888c",
   "metadata": {},
   "outputs": [
    {
     "data": {
      "text/plain": [
       "2"
      ]
     },
     "execution_count": 51,
     "metadata": {},
     "output_type": "execute_result"
    }
   ],
   "source": [
    "lst=[1,2,2,3,4,5]\n",
    "lst.count(2)"
   ]
  },
  {
   "cell_type": "code",
   "execution_count": 52,
   "id": "d3b314ed",
   "metadata": {},
   "outputs": [
    {
     "data": {
      "text/plain": [
       "6"
      ]
     },
     "execution_count": 52,
     "metadata": {},
     "output_type": "execute_result"
    }
   ],
   "source": [
    "len(lst)"
   ]
  },
  {
   "cell_type": "code",
   "execution_count": 58,
   "id": "bfe9a2a6",
   "metadata": {},
   "outputs": [
    {
     "data": {
      "text/plain": [
       "1"
      ]
     },
     "execution_count": 58,
     "metadata": {},
     "output_type": "execute_result"
    }
   ],
   "source": [
    "lst.index(2,1,4)"
   ]
  },
  {
   "cell_type": "code",
   "execution_count": 59,
   "id": "025d8bc5",
   "metadata": {},
   "outputs": [
    {
     "data": {
      "text/plain": [
       "[1,\n",
       " 2,\n",
       " 2,\n",
       " 3,\n",
       " 4,\n",
       " 5,\n",
       " 1,\n",
       " 2,\n",
       " 2,\n",
       " 3,\n",
       " 4,\n",
       " 5,\n",
       " 1,\n",
       " 2,\n",
       " 2,\n",
       " 3,\n",
       " 4,\n",
       " 5,\n",
       " 1,\n",
       " 2,\n",
       " 2,\n",
       " 3,\n",
       " 4,\n",
       " 5,\n",
       " 1,\n",
       " 2,\n",
       " 2,\n",
       " 3,\n",
       " 4,\n",
       " 5]"
      ]
     },
     "execution_count": 59,
     "metadata": {},
     "output_type": "execute_result"
    }
   ],
   "source": [
    "lst*5"
   ]
  },
  {
   "cell_type": "markdown",
   "id": "491e0175",
   "metadata": {},
   "source": [
    "# sets"
   ]
  },
  {
   "cell_type": "code",
   "execution_count": 63,
   "id": "01d06ee6",
   "metadata": {},
   "outputs": [
    {
     "name": "stdout",
     "output_type": "stream",
     "text": [
      "{1, 2, 3, 4}\n"
     ]
    },
    {
     "data": {
      "text/plain": [
       "set"
      ]
     },
     "execution_count": 63,
     "metadata": {},
     "output_type": "execute_result"
    }
   ],
   "source": [
    "set_var={1,2,3,4,3}\n",
    "print(set_var)\n",
    "type(set_var)"
   ]
  },
  {
   "cell_type": "code",
   "execution_count": 64,
   "id": "95258b03",
   "metadata": {},
   "outputs": [],
   "source": [
    "set_var.add(\"nani\")"
   ]
  },
  {
   "cell_type": "code",
   "execution_count": 65,
   "id": "692324d6",
   "metadata": {},
   "outputs": [
    {
     "data": {
      "text/plain": [
       "{1, 2, 3, 4, 'nani'}"
      ]
     },
     "execution_count": 65,
     "metadata": {},
     "output_type": "execute_result"
    }
   ],
   "source": [
    "set_var"
   ]
  },
  {
   "cell_type": "markdown",
   "id": "368b0242",
   "metadata": {},
   "source": [
    "# nested dictionary"
   ]
  },
  {
   "cell_type": "code",
   "execution_count": 66,
   "id": "51c9d9d3",
   "metadata": {},
   "outputs": [],
   "source": [
    "my_dict={\"car1\":\"audi\",\"car2\":\"bmw\",\"car3\":\"mercidies benz\"}"
   ]
  },
  {
   "cell_type": "code",
   "execution_count": 67,
   "id": "7949595f",
   "metadata": {},
   "outputs": [
    {
     "data": {
      "text/plain": [
       "dict"
      ]
     },
     "execution_count": 67,
     "metadata": {},
     "output_type": "execute_result"
    }
   ],
   "source": [
    "type(my_dict)"
   ]
  },
  {
   "cell_type": "code",
   "execution_count": 68,
   "id": "5c59e039",
   "metadata": {},
   "outputs": [
    {
     "name": "stdout",
     "output_type": "stream",
     "text": [
      "car1\n",
      "car2\n",
      "car3\n"
     ]
    }
   ],
   "source": [
    "for i in my_dict:\n",
    "    print(i)"
   ]
  },
  {
   "cell_type": "code",
   "execution_count": 70,
   "id": "c6bd3c8b",
   "metadata": {},
   "outputs": [
    {
     "name": "stdout",
     "output_type": "stream",
     "text": [
      "audi\n",
      "bmw\n",
      "mercidies benz\n"
     ]
    }
   ],
   "source": [
    "for i in my_dict.values():\n",
    "    print(i)"
   ]
  },
  {
   "cell_type": "code",
   "execution_count": 71,
   "id": "db684ce0",
   "metadata": {},
   "outputs": [
    {
     "name": "stdout",
     "output_type": "stream",
     "text": [
      "('car1', 'audi')\n",
      "('car2', 'bmw')\n",
      "('car3', 'mercidies benz')\n"
     ]
    }
   ],
   "source": [
    "for i in my_dict.items():\n",
    "    print(i)"
   ]
  },
  {
   "cell_type": "code",
   "execution_count": 72,
   "id": "24bf800f",
   "metadata": {},
   "outputs": [],
   "source": [
    "my_dict[\"car4\"]=\"audi2.0\""
   ]
  },
  {
   "cell_type": "code",
   "execution_count": 73,
   "id": "61b58124",
   "metadata": {},
   "outputs": [
    {
     "data": {
      "text/plain": [
       "{'car1': 'audi', 'car2': 'bmw', 'car3': 'mercidies benz', 'car4': 'audi2.0'}"
      ]
     },
     "execution_count": 73,
     "metadata": {},
     "output_type": "execute_result"
    }
   ],
   "source": [
    "my_dict"
   ]
  },
  {
   "cell_type": "markdown",
   "id": "3a8b0cb2",
   "metadata": {},
   "source": [
    "# Nested dictionary"
   ]
  },
  {
   "cell_type": "code",
   "execution_count": 74,
   "id": "7d475d24",
   "metadata": {},
   "outputs": [],
   "source": [
    "car1_model={\"mercedies\":1990}\n",
    "car2_model={\"audi\":1970}\n",
    "car3_model={\"ambassador\":1980}\n",
    "car_type={\"car1\":car1_model,\"car2\":car2_model,\"car3\":car3_model}"
   ]
  },
  {
   "cell_type": "code",
   "execution_count": 75,
   "id": "43b97541",
   "metadata": {},
   "outputs": [
    {
     "name": "stdout",
     "output_type": "stream",
     "text": [
      "{'car1': {'mercedies': 1990}, 'car2': {'audi': 1970}, 'car3': {'ambassador': 1980}}\n"
     ]
    }
   ],
   "source": [
    "print(car_type)"
   ]
  },
  {
   "cell_type": "code",
   "execution_count": 76,
   "id": "5b02127a",
   "metadata": {},
   "outputs": [
    {
     "name": "stdout",
     "output_type": "stream",
     "text": [
      "{'mercedies': 1990}\n"
     ]
    }
   ],
   "source": [
    "print(car_type['car1'])"
   ]
  },
  {
   "cell_type": "code",
   "execution_count": 81,
   "id": "7ac8b3c5",
   "metadata": {},
   "outputs": [
    {
     "name": "stdout",
     "output_type": "stream",
     "text": [
      "1990\n"
     ]
    }
   ],
   "source": [
    "print(car_type['car1']['mercedies'])"
   ]
  },
  {
   "cell_type": "code",
   "execution_count": null,
   "id": "e0d03f28",
   "metadata": {},
   "outputs": [],
   "source": []
  }
 ],
 "metadata": {
  "kernelspec": {
   "display_name": "Python 3 (ipykernel)",
   "language": "python",
   "name": "python3"
  },
  "language_info": {
   "codemirror_mode": {
    "name": "ipython",
    "version": 3
   },
   "file_extension": ".py",
   "mimetype": "text/x-python",
   "name": "python",
   "nbconvert_exporter": "python",
   "pygments_lexer": "ipython3",
   "version": "3.9.7"
  }
 },
 "nbformat": 4,
 "nbformat_minor": 5
}
